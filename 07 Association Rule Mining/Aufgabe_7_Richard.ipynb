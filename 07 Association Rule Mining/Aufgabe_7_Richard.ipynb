{
 "cells": [
  {
   "cell_type": "code",
   "execution_count": 1,
   "metadata": {},
   "outputs": [],
   "source": [
    "import numpy as np\n",
    "from collections import defaultdict\n",
    "from itertools import combinations"
   ]
  },
  {
   "cell_type": "code",
   "execution_count": 41,
   "metadata": {},
   "outputs": [],
   "source": [
    "transactions = []\n",
    "items = set()\n",
    "with open(\"items.tsv\", \"r\") as file:  #r..read, \"with\" schließt file am Ende wieder\n",
    "    for line in file.readlines():\n",
    "        new_set = set(line.strip().split(\" \")) #strip entfernt leerzeichen davor und danach, Trennung bei Leerzeichen durch split\n",
    "        transactions.append(new_set)\n",
    "        items.update(new_set)\n",
    "        \n",
    "dataR = {}\n",
    "for i, t in enumerate(transactions):\n",
    "    dataR[i] = sorted({int(t) for t in transactions[i]})"
   ]
  },
  {
   "cell_type": "code",
   "execution_count": 42,
   "metadata": {},
   "outputs": [
    {
     "name": "stdout",
     "output_type": "stream",
     "text": [
      "0 : [4, 6, 7, 8, 16, 17, 18, 19, 20, 21, 22, 30, 31, 32, 33, 34, 35, 36, 37, 38, 40, 41, 43, 44, 45, 47, 48]\n",
      "1 : [4, 6, 7, 8, 12, 16, 18, 19, 20, 21, 22, 24, 30, 32, 34, 35, 41, 47, 49, 50, 53]\n",
      "2 : [6, 8, 11, 12, 19, 20, 21, 22, 27, 29, 30, 32, 33, 34, 37, 40, 41, 42, 46, 50, 53]\n",
      "3 : [4, 6, 8, 9, 20, 21, 22, 24, 29, 30, 33, 34, 43, 45, 47, 51, 53]\n",
      "4 : [2, 4, 6, 15, 21, 22, 24, 29, 30, 31, 34, 37, 40, 41, 44, 51, 52, 53]\n",
      "5 : [1, 6, 13, 22, 24, 27, 29, 32, 34, 37, 41, 43, 45, 53]\n",
      "6 : [4, 5, 6, 13, 20, 22, 23, 24, 27, 30, 31, 34, 37, 42, 46, 48, 51]\n",
      "7 : [1, 6, 14, 15, 22, 24, 25, 27, 28, 29, 30, 33, 35, 36, 37, 41, 43, 47, 51]\n",
      "8 : [3, 4, 5, 6, 11, 21, 22, 23, 24, 25, 26, 27, 28, 29, 34, 40, 43, 44, 45, 48, 50, 51]\n",
      "9 : [6, 10, 14, 15, 18, 20, 21, 26, 27, 28, 30, 32, 33, 34, 35, 36, 37, 38, 39, 41, 43, 49, 50, 53]\n"
     ]
    }
   ],
   "source": [
    "for k, transactions in dataR.items():\n",
    "    print(k, \":\", transactions)"
   ]
  },
  {
   "cell_type": "code",
   "execution_count": 35,
   "metadata": {},
   "outputs": [],
   "source": [
    "def aprioriR(data, minsup):\n",
    "    candidates = {(item,) for transaction in data.values() for item in transaction}\n",
    "    sorted_candidates = sorted(candidates)       \n",
    "    \n",
    "    k = 1\n",
    "    result = dict()\n",
    "    \n",
    "    while sorted_candidates:\n",
    "        \n",
    "#         print(\"sorted candidates: {}\".format(sorted_candidates))\n",
    "        \n",
    "        counts = dict()\n",
    "        for i, transaction in data.items():\n",
    "            for candidate_in_transaction in combinations(transaction, r=k):\n",
    "                if k == 1 or candidate_in_transaction in sorted_candidates:\n",
    "                    if candidate_in_transaction not in counts:\n",
    "                        counts[candidate_in_transaction] = 0\n",
    "                    counts[candidate_in_transaction] += 1\n",
    "                    \n",
    "#         print(\"counts: {}\".format(counts))\n",
    "                    \n",
    "        frequent_items = set()\n",
    "        \n",
    "        for item, count in sorted(counts.items()):\n",
    "            if count / len(data) >= minsup:\n",
    "                frequent_items.add(item)\n",
    "        \n",
    "        result[k] = (sorted(frequent_items))\n",
    "        \n",
    "        relevant_items = sorted({item for items in frequent_items for item in items})\n",
    "        \n",
    "#         print(\"relevant items: {}\".format(relevant_items))\n",
    "        \n",
    "        k += 1\n",
    "        sorted_candidates = list(combinations(relevant_items, r=k))        \n",
    "    \n",
    "    return result"
   ]
  },
  {
   "cell_type": "code",
   "execution_count": 36,
   "metadata": {},
   "outputs": [
    {
     "name": "stdout",
     "output_type": "stream",
     "text": [
      "{1: [(6,), (21,), (22,), (24,), (30,), (34,), (37,), (41,)], 2: [(6, 21), (6, 22), (6, 24), (6, 30), (6, 34), (6, 37), (6, 41), (21, 34), (22, 24), (22, 30), (22, 34), (30, 34)], 3: [(6, 21, 34), (6, 22, 24), (6, 22, 30), (6, 22, 34), (6, 30, 34)], 4: []}\n"
     ]
    }
   ],
   "source": [
    "print(aprioriR(dataR, 0.7))"
   ]
  },
  {
   "cell_type": "code",
   "execution_count": null,
   "metadata": {},
   "outputs": [],
   "source": []
  }
 ],
 "metadata": {
  "kernelspec": {
   "display_name": "Python 3",
   "language": "python",
   "name": "python3"
  },
  "language_info": {
   "codemirror_mode": {
    "name": "ipython",
    "version": 3
   },
   "file_extension": ".py",
   "mimetype": "text/x-python",
   "name": "python",
   "nbconvert_exporter": "python",
   "pygments_lexer": "ipython3",
   "version": "3.8.3"
  }
 },
 "nbformat": 4,
 "nbformat_minor": 2
}
