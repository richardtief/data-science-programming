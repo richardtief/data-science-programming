{
 "cells": [
  {
   "cell_type": "markdown",
   "metadata": {},
   "source": [
    "# Association Rule Mining"
   ]
  },
  {
   "cell_type": "code",
   "execution_count": 1,
   "metadata": {},
   "outputs": [],
   "source": [
    "import pandas as pd\n",
    "import itertools\n",
    "import math\n",
    "import timeit\n",
    "import numpy as np\n",
    "import matplotlib.pyplot as plt"
   ]
  },
  {
   "cell_type": "markdown",
   "metadata": {},
   "source": [
    "## Step 0\n",
    "- You will get two tsv files from us. Rows are transactions with purchased items. Load it in your language/environment.\n",
    "- Use the smaller file (items.tsv, minsupp of 70%) for development and the larger file (retail.tsv, minsupp of 10%) for evaluation."
   ]
  },
  {
   "cell_type": "code",
   "execution_count": 2,
   "metadata": {},
   "outputs": [
    {
     "name": "stdout",
     "output_type": "stream",
     "text": [
      "[[4, 6, 7, 8, 16, 17, 18, 19, 20, 21, 22, 30, 31, 32, 33, 34, 35, 36, 37, 38, 40, 41, 43, 44, 45, 47, 48], [4, 6, 7, 8, 12, 16, 18, 19, 20, 21, 22, 24, 30, 32, 34, 35, 41, 47, 49, 50, 53], [6, 8, 11, 12, 19, 20, 21, 22, 27, 29, 30, 32, 33, 34, 37, 40, 41, 42, 46, 50, 53], [4, 6, 8, 9, 20, 21, 22, 24, 29, 30, 33, 34, 43, 45, 47, 51, 53], [2, 4, 6, 15, 21, 22, 24, 29, 30, 31, 34, 37, 40, 41, 44, 51, 52, 53], [1, 6, 13, 22, 24, 27, 29, 32, 34, 37, 41, 43, 45, 53], [4, 5, 6, 13, 20, 22, 23, 24, 27, 30, 31, 34, 37, 42, 46, 48, 51], [1, 6, 14, 15, 22, 24, 25, 27, 28, 29, 30, 33, 35, 36, 37, 41, 43, 47, 51], [3, 4, 5, 6, 11, 21, 22, 23, 24, 25, 26, 27, 28, 29, 34, 40, 43, 44, 45, 48, 50, 51], [6, 10, 14, 15, 18, 20, 21, 26, 27, 28, 30, 32, 33, 34, 35, 36, 37, 38, 39, 41, 43, 49, 50, 53]]\n"
     ]
    }
   ],
   "source": [
    "import csv\n",
    "\n",
    "with open('items.tsv', 'r') as f:\n",
    "    reader = csv.reader(f, delimiter=\" \")\n",
    "    dataset_1 = [[int(item) for item in purchase if item] for purchase in reader]\n",
    "    \n",
    "with open('retail.tsv', 'r') as f:\n",
    "    reader = csv.reader(f, delimiter=\" \")\n",
    "    dataset_2 = [[int(item) for item in purchase if item] for purchase in reader]"
   ]
  },
  {
   "cell_type": "markdown",
   "metadata": {},
   "source": [
    "## Step 1\n",
    "- Implement the Apriori algorithm*."
   ]
  },
  {
   "cell_type": "code",
   "execution_count": 3,
   "metadata": {},
   "outputs": [],
   "source": [
    "def apriori(dataset, minsupp, verbose=False):\n",
    "    total_transactions = len(dataset)\n",
    "    candidates = sorted({(item,) for transaction in dataset for item in transaction})\n",
    "    k = 1\n",
    "    debug_threshold = math.ceil(total_transactions/100)\n",
    "\n",
    "    result = []\n",
    "    while candidates:\n",
    "        candidate_counts = dict()\n",
    "        if verbose:\n",
    "            print(f'k={k}')\n",
    "        for i, transaction in enumerate(dataset):\n",
    "            if verbose and i % debug_threshold == 0:\n",
    "                print(f'{i}/{total_transactions}', end='\\r')\n",
    "            for c_t in itertools.combinations(transaction, r=k):\n",
    "                if k == 1 or c_t in candidates:\n",
    "                    if c_t not in candidate_counts:\n",
    "                        candidate_counts[c_t] = 0\n",
    "                    candidate_counts[c_t] += 1\n",
    "        if verbose:     \n",
    "            print(f'{total_transactions}/{total_transactions}')\n",
    "        \n",
    "        frequent_items = set()\n",
    "        for item, count in sorted(candidate_counts.items()):\n",
    "            if count / total_transactions >= minsupp:\n",
    "                frequent_items.add(item)\n",
    "        \n",
    "        if verbose:\n",
    "            print(f'Frequent items fount: {len(frequent_items)}')\n",
    "\n",
    "        for items in sorted(frequent_items):\n",
    "            result.append(items)\n",
    "\n",
    "        relevant_items = sorted({item for items in frequent_items for item in items})\n",
    "        k += 1\n",
    "        candidates = list(itertools.combinations(relevant_items, r=k))\n",
    "    \n",
    "    return result"
   ]
  },
  {
   "cell_type": "markdown",
   "metadata": {},
   "source": [
    "- Using your implementation, extract frequent item sets from the given datasets."
   ]
  },
  {
   "cell_type": "code",
   "execution_count": 4,
   "metadata": {},
   "outputs": [
    {
     "name": "stdout",
     "output_type": "stream",
     "text": [
      "k=1\n",
      "0/10\r",
      "1/10\r",
      "2/10\r",
      "3/10\r",
      "4/10\r",
      "5/10\r",
      "6/10\r",
      "7/10\r",
      "8/10\r",
      "9/10\r",
      "10/10\n",
      "Frequent items fount: 8\n",
      "k=2\n",
      "0/10\r",
      "1/10\r",
      "2/10\r",
      "3/10\r",
      "4/10\r",
      "5/10\r",
      "6/10\r",
      "7/10\r",
      "8/10\r",
      "9/10\r",
      "10/10\n",
      "Frequent items fount: 12\n",
      "k=3\n",
      "0/10\r",
      "1/10\r",
      "2/10\r",
      "3/10\r",
      "4/10\r",
      "5/10\r",
      "6/10\r",
      "7/10\r",
      "8/10\r",
      "9/10\r",
      "10/10\n",
      "Frequent items fount: 5\n",
      "k=4\n",
      "0/10\r",
      "1/10\r",
      "2/10\r",
      "3/10\r",
      "4/10\r",
      "5/10\r",
      "6/10\r",
      "7/10\r",
      "8/10\r",
      "9/10\r",
      "10/10\n",
      "Frequent items fount: 0\n",
      "[(6,), (21,), (22,), (24,), (30,), (34,), (37,), (41,), (6, 21), (6, 22), (6, 24), (6, 30), (6, 34), (6, 37), (6, 41), (21, 34), (22, 24), (22, 30), (22, 34), (30, 34), (6, 21, 34), (6, 22, 24), (6, 22, 30), (6, 22, 34), (6, 30, 34)]\n"
     ]
    }
   ],
   "source": [
    "print(apriori(dataset_1, 0.7, verbose=True))"
   ]
  },
  {
   "cell_type": "code",
   "execution_count": 5,
   "metadata": {},
   "outputs": [
    {
     "name": "stdout",
     "output_type": "stream",
     "text": [
      "k=1\n",
      "88162/88162\n",
      "Frequent items fount: 5\n",
      "k=2\n",
      "88162/88162\n",
      "Frequent items fount: 4\n",
      "k=3\n",
      "88162/88162\n",
      "Frequent items fount: 0\n",
      "[(32,), (38,), (39,), (41,), (48,), (38, 39), (39, 41), (39, 48), (41, 48)]\n"
     ]
    }
   ],
   "source": [
    "print(apriori(dataset_2, 0.1, verbose=True))"
   ]
  },
  {
   "cell_type": "markdown",
   "metadata": {},
   "source": [
    "## Step 2\n",
    "- Implement the ECLAT algorithm*.\n",
    "- Using your implementation, extract frequent item sets from the given datasets."
   ]
  },
  {
   "cell_type": "code",
   "execution_count": 6,
   "metadata": {},
   "outputs": [],
   "source": [
    "\n",
    "def eclat(dataset, minsupp, verbose=False):\n",
    "    total_transactions = len(dataset)\n",
    "\n",
    "    k=1\n",
    "    item_transactions = dict()\n",
    "    for index, transaction in enumerate(dataset):\n",
    "        for item in transaction:\n",
    "            if (item,) not in item_transactions:\n",
    "                item_transactions[item,] = set()\n",
    "            item_transactions[item,].add(index)\n",
    "    result = []\n",
    "    while item_transactions:\n",
    "        k +=1\n",
    "        if verbose:\n",
    "            print(f'k={k}')\n",
    "        frequent_items = set()\n",
    "        for item, transaction_indices in  item_transactions.items():\n",
    "            if len(transaction_indices) / total_transactions >= minsupp:\n",
    "                frequent_items.add(item)\n",
    "        if verbose:\n",
    "            print(f'Frequent items fount: {len(frequent_items)}')\n",
    "        result.extend(sorted(frequent_items))\n",
    "\n",
    "        relevant_items = sorted({item for items in frequent_items for item in items})\n",
    "\n",
    "        candidates = list(itertools.combinations(relevant_items, r=k))\n",
    "        new_item_transactions = dict()\n",
    "        for candidate in candidates:\n",
    "            old_candidates = list(itertools.combinations(candidate, r=k-1))\n",
    "            new_item_transactions[candidate] = item_transactions[old_candidates[0]].intersection(*(item_transactions[i] for i in old_candidates[1:]))\n",
    "        item_transactions = new_item_transactions\n",
    "    return result\n",
    "    "
   ]
  },
  {
   "cell_type": "code",
   "execution_count": 7,
   "metadata": {},
   "outputs": [
    {
     "name": "stdout",
     "output_type": "stream",
     "text": [
      "k=2\n",
      "Frequent items fount: 8\n",
      "k=3\n",
      "Frequent items fount: 12\n",
      "k=4\n",
      "Frequent items fount: 5\n",
      "k=5\n",
      "Frequent items fount: 0\n",
      "[(6,), (21,), (22,), (24,), (30,), (34,), (37,), (41,), (6, 21), (6, 22), (6, 24), (6, 30), (6, 34), (6, 37), (6, 41), (21, 34), (22, 24), (22, 30), (22, 34), (30, 34), (6, 21, 34), (6, 22, 24), (6, 22, 30), (6, 22, 34), (6, 30, 34)]\n"
     ]
    }
   ],
   "source": [
    "print(eclat(dataset_1, 0.7, verbose=True))"
   ]
  },
  {
   "cell_type": "code",
   "execution_count": 8,
   "metadata": {},
   "outputs": [
    {
     "name": "stdout",
     "output_type": "stream",
     "text": [
      "k=2\n",
      "Frequent items fount: 5\n",
      "k=3\n",
      "Frequent items fount: 4\n",
      "k=4\n",
      "Frequent items fount: 0\n",
      "[(32,), (38,), (39,), (41,), (48,), (38, 39), (39, 41), (39, 48), (41, 48)]\n"
     ]
    }
   ],
   "source": [
    "print(eclat(dataset_2, 0.1, verbose=True))"
   ]
  },
  {
   "cell_type": "markdown",
   "metadata": {},
   "source": [
    "## Step 3\n",
    "- Compare the runtimes of both algorithms on both files."
   ]
  },
  {
   "cell_type": "code",
   "execution_count": 9,
   "metadata": {},
   "outputs": [
    {
     "data": {
      "image/png": "[encoded data removed]",
      "text/plain": [
       "<Figure size 432x288 with 1 Axes>"
      ]
     },
     "metadata": {
      "needs_background": "light"
     },
     "output_type": "display_data"
    }
   ],
   "source": [
    "count = 100\n",
    "t_1 = timeit.timeit(lambda: apriori(dataset_1, 0.7), number=count) / count\n",
    "t_2 = timeit.timeit(lambda: eclat(dataset_1, 0.7), number=count) / count\n",
    "y_pos = np.arange(2)\n",
    "plt.bar(y_pos, (t_1, t_2))\n",
    "plt.xticks(y_pos, (\"Apriori\", \"Eclat\"))\n",
    "plt.title(f'Dataset: items.tsv')\n",
    "plt.show()"
   ]
  },
  {
   "cell_type": "code",
   "execution_count": 10,
   "metadata": {},
   "outputs": [
    {
     "data": {
      "image/png": "[encoded data removed]",
      "text/plain": [
       "<Figure size 432x288 with 1 Axes>"
      ]
     },
     "metadata": {
      "needs_background": "light"
     },
     "output_type": "display_data"
    }
   ],
   "source": [
    "count = 10\n",
    "t_1 = timeit.timeit(lambda: apriori(dataset_2, 0.1), number=count) / count\n",
    "t_2 = timeit.timeit(lambda: eclat(dataset_2, 0.1), number=count) / count\n",
    "y_pos = np.arange(2)\n",
    "plt.bar(y_pos, (t_1, t_2))\n",
    "plt.xticks(y_pos, (\"Apriori\", \"Eclat\"))\n",
    "plt.title(f'Dataset: retail.tsv')\n",
    "plt.show()"
   ]
  }
 ],
 "metadata": {
  "kernelspec": {
   "display_name": "Python 3",
   "language": "python",
   "name": "python3"
  },
  "language_info": {
   "codemirror_mode": {
    "name": "ipython",
    "version": 3
   },
   "file_extension": ".py",
   "mimetype": "text/x-python",
   "name": "python",
   "nbconvert_exporter": "python",
   "pygments_lexer": "ipython3",
   "version": "3.8.3"
  }
 },
 "nbformat": 4,
 "nbformat_minor": 4
}
