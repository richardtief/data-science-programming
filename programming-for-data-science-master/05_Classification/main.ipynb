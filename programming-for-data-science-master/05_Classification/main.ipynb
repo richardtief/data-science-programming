{
 "cells": [
  {
   "cell_type": "markdown",
   "metadata": {},
   "source": [
    "# Classification"
   ]
  },
  {
   "cell_type": "code",
   "execution_count": 2,
   "metadata": {},
   "outputs": [],
   "source": [
    "import pandas as pd\n",
    "import math\n",
    "import textwrap"
   ]
  },
  {
   "cell_type": "markdown",
   "metadata": {},
   "source": [
    "## Step 0\n",
    "- You will get a csv file from us. Load it in your language/environment.\n",
    "- Explore the data in it. Identify the input data $X$ and the labels."
   ]
  },
  {
   "cell_type": "code",
   "execution_count": 3,
   "metadata": {},
   "outputs": [
    {
     "data": {
      "text/html": [
       "<div>\n",
       "<style scoped>\n",
       "    .dataframe tbody tr th:only-of-type {\n",
       "        vertical-align: middle;\n",
       "    }\n",
       "\n",
       "    .dataframe tbody tr th {\n",
       "        vertical-align: top;\n",
       "    }\n",
       "\n",
       "    .dataframe thead th {\n",
       "        text-align: right;\n",
       "    }\n",
       "</style>\n",
       "<table border=\"1\" class=\"dataframe\">\n",
       "  <thead>\n",
       "    <tr style=\"text-align: right;\">\n",
       "      <th></th>\n",
       "      <th>forecast</th>\n",
       "      <th>temperature</th>\n",
       "      <th>humidity</th>\n",
       "      <th>wind</th>\n",
       "      <th>tennis</th>\n",
       "    </tr>\n",
       "  </thead>\n",
       "  <tbody>\n",
       "    <tr>\n",
       "      <th>0</th>\n",
       "      <td>sunny</td>\n",
       "      <td>hot</td>\n",
       "      <td>high</td>\n",
       "      <td>weak</td>\n",
       "      <td>no</td>\n",
       "    </tr>\n",
       "    <tr>\n",
       "      <th>1</th>\n",
       "      <td>sunny</td>\n",
       "      <td>hot</td>\n",
       "      <td>high</td>\n",
       "      <td>strong</td>\n",
       "      <td>no</td>\n",
       "    </tr>\n",
       "    <tr>\n",
       "      <th>2</th>\n",
       "      <td>overcast</td>\n",
       "      <td>hot</td>\n",
       "      <td>high</td>\n",
       "      <td>weak</td>\n",
       "      <td>yes</td>\n",
       "    </tr>\n",
       "    <tr>\n",
       "      <th>3</th>\n",
       "      <td>rainy</td>\n",
       "      <td>mild</td>\n",
       "      <td>high</td>\n",
       "      <td>weak</td>\n",
       "      <td>yes</td>\n",
       "    </tr>\n",
       "    <tr>\n",
       "      <th>4</th>\n",
       "      <td>rainy</td>\n",
       "      <td>cool</td>\n",
       "      <td>normal</td>\n",
       "      <td>weak</td>\n",
       "      <td>yes</td>\n",
       "    </tr>\n",
       "    <tr>\n",
       "      <th>5</th>\n",
       "      <td>rainy</td>\n",
       "      <td>cool</td>\n",
       "      <td>normal</td>\n",
       "      <td>strong</td>\n",
       "      <td>no</td>\n",
       "    </tr>\n",
       "    <tr>\n",
       "      <th>6</th>\n",
       "      <td>overcast</td>\n",
       "      <td>cool</td>\n",
       "      <td>normal</td>\n",
       "      <td>strong</td>\n",
       "      <td>yes</td>\n",
       "    </tr>\n",
       "    <tr>\n",
       "      <th>7</th>\n",
       "      <td>sunny</td>\n",
       "      <td>mild</td>\n",
       "      <td>high</td>\n",
       "      <td>weak</td>\n",
       "      <td>no</td>\n",
       "    </tr>\n",
       "    <tr>\n",
       "      <th>8</th>\n",
       "      <td>sunny</td>\n",
       "      <td>cool</td>\n",
       "      <td>normal</td>\n",
       "      <td>weak</td>\n",
       "      <td>yes</td>\n",
       "    </tr>\n",
       "    <tr>\n",
       "      <th>9</th>\n",
       "      <td>rain</td>\n",
       "      <td>mild</td>\n",
       "      <td>normal</td>\n",
       "      <td>weak</td>\n",
       "      <td>yes</td>\n",
       "    </tr>\n",
       "    <tr>\n",
       "      <th>10</th>\n",
       "      <td>sunny</td>\n",
       "      <td>mild</td>\n",
       "      <td>normal</td>\n",
       "      <td>strong</td>\n",
       "      <td>yes</td>\n",
       "    </tr>\n",
       "    <tr>\n",
       "      <th>11</th>\n",
       "      <td>overcast</td>\n",
       "      <td>mild</td>\n",
       "      <td>high</td>\n",
       "      <td>strong</td>\n",
       "      <td>yes</td>\n",
       "    </tr>\n",
       "    <tr>\n",
       "      <th>12</th>\n",
       "      <td>overcast</td>\n",
       "      <td>hot</td>\n",
       "      <td>normal</td>\n",
       "      <td>weak</td>\n",
       "      <td>yes</td>\n",
       "    </tr>\n",
       "    <tr>\n",
       "      <th>13</th>\n",
       "      <td>rain</td>\n",
       "      <td>mild</td>\n",
       "      <td>high</td>\n",
       "      <td>strong</td>\n",
       "      <td>no</td>\n",
       "    </tr>\n",
       "  </tbody>\n",
       "</table>\n",
       "</div>"
      ],
      "text/plain": [
       "    forecast temperature humidity    wind tennis\n",
       "0      sunny         hot     high    weak     no\n",
       "1      sunny         hot     high  strong     no\n",
       "2   overcast         hot     high    weak    yes\n",
       "3      rainy        mild     high    weak    yes\n",
       "4      rainy        cool   normal    weak    yes\n",
       "5      rainy        cool   normal  strong     no\n",
       "6   overcast        cool   normal  strong    yes\n",
       "7      sunny        mild     high    weak     no\n",
       "8      sunny        cool   normal    weak    yes\n",
       "9       rain        mild   normal    weak    yes\n",
       "10     sunny        mild   normal  strong    yes\n",
       "11  overcast        mild     high  strong    yes\n",
       "12  overcast         hot   normal    weak    yes\n",
       "13      rain        mild     high  strong     no"
      ]
     },
     "execution_count": 3,
     "metadata": {},
     "output_type": "execute_result"
    }
   ],
   "source": [
    "data_frame: pd.DataFrame = pd.read_csv(\"data-cls.csv\")\n",
    "data_frame"
   ]
  },
  {
   "cell_type": "markdown",
   "metadata": {},
   "source": [
    "## Step 1\n",
    "- Implement an ID3 decision tree*."
   ]
  },
  {
   "cell_type": "code",
   "execution_count": 47,
   "metadata": {},
   "outputs": [
    {
     "data": {
      "text/plain": [
       "1.924174352300441"
      ]
     },
     "execution_count": 47,
     "metadata": {},
     "output_type": "execute_result"
    }
   ],
   "source": [
    "def entropy(data_frame: pd.DataFrame, classification: str):\n",
    "    entry_count = data_frame.shape[0]\n",
    "    return sum((- (value / entry_count) * math.log2(value / entry_count)) for value in\n",
    "               data_frame[classification].value_counts())"
   ]
  },
  {
   "cell_type": "code",
   "execution_count": 81,
   "metadata": {},
   "outputs": [],
   "source": [
    "def find_split_column(data_frame: pd.DataFrame, classification: str):\n",
    "    ent = entropy(data_frame, classification)\n",
    "    e = dict()\n",
    "    \n",
    "    for column_name in data_frame.drop(classification, 1):\n",
    "        value_counts: pd.Series = data_frame[column_name].value_counts(normalize=True)\n",
    "        entropys = value_counts.index.to_series().apply(\n",
    "            lambda x: entropy(data_frame[data_frame[column_name] == x],\n",
    "                             classification))\n",
    "        new_ent = (value_counts * entropys).sum()\n",
    "        information_gain = ent - new_ent\n",
    "        e[column_name] = information_gain\n",
    "\n",
    "    best_column = max(e, key=e.get)\n",
    "    return best_column"
   ]
  },
  {
   "cell_type": "code",
   "execution_count": 82,
   "metadata": {},
   "outputs": [],
   "source": [
    "def id3(data_frame, classification: str, last_split_column: str=\"\", check=None, matching=True):\n",
    "    ent = entropy(data_frame, classification)\n",
    "    if ent == 0:\n",
    "        if check is None:\n",
    "            return '-> ' + data_frame[classification].iloc[0]\n",
    "#         elif matching:\n",
    "#             return data_frame[classification].iloc[0]\n",
    "#         else:\n",
    "#             return None\n",
    "        \n",
    "    split_column = find_split_column(data_frame, classification)\n",
    "    if split_column == last_split_column:\n",
    "        if check is None:\n",
    "            return str(data_frame[classification].value_counts(normalize=True))\n",
    "#         else:\n",
    "#             return data_frame[classification].value_counts(normalize=True)\n",
    "    \n",
    "    if check is None:\n",
    "        result = split_column + ' ?'\n",
    "#     else:\n",
    "#         result = None\n",
    "    print(pd.unique(data_frame[split_column]))\n",
    "    for value in pd.unique(data_frame[split_column]):\n",
    "        df = data_frame[data_frame[split_column] == value]\n",
    "\n",
    "        if check is None:\n",
    "            result += f'\\n |{value}'\n",
    "            result += f'\\n{textwrap.indent(id3(df, classification, split_column), \" |  \")}'\n",
    "#         else:\n",
    "#             value_matches = matching and split_column in check and check[split_column] == value\n",
    "#             result = result or id3(df, classification, split_column, check, value_matches)\n",
    "    return result"
   ]
  },
  {
   "cell_type": "code",
   "execution_count": 83,
   "metadata": {},
   "outputs": [
    {
     "name": "stdout",
     "output_type": "stream",
     "text": [
      "['sunny' 'overcast' 'rainy' 'rain']\n",
      "['high' 'normal']\n",
      "['weak' 'strong']\n",
      "['normal' 'high']\n",
      "forecast ?\n",
      " |sunny\n",
      " |  humidity ?\n",
      " |   |high\n",
      " |   |  -> no\n",
      " |   |normal\n",
      " |   |  -> yes\n",
      " |overcast\n",
      " |  -> yes\n",
      " |rainy\n",
      " |  wind ?\n",
      " |   |weak\n",
      " |   |  -> yes\n",
      " |   |strong\n",
      " |   |  -> no\n",
      " |rain\n",
      " |  humidity ?\n",
      " |   |normal\n",
      " |   |  -> yes\n",
      " |   |high\n",
      " |   |  -> no\n"
     ]
    }
   ],
   "source": [
    "print(id3(data_frame, 'tennis'))"
   ]
  },
  {
   "cell_type": "markdown",
   "metadata": {},
   "source": [
    "## Step 2\n",
    "- Use your decision tree to classify: rainy forecast, hot temperature, high humidity, strong wind"
   ]
  },
  {
   "cell_type": "code",
   "execution_count": 7,
   "metadata": {},
   "outputs": [
    {
     "name": "stdout",
     "output_type": "stream",
     "text": [
      "no\n"
     ]
    }
   ],
   "source": [
    "result = id3(data_frame, 'tennis', check={'forecast':'rainy',\n",
    "                                        'temperature':'hot',\n",
    "                                        'humidity': 'high',\n",
    "                                        'wind': 'strong'})\n",
    "print(result)"
   ]
  }
 ],
 "metadata": {
  "kernelspec": {
   "display_name": "Python 3",
   "language": "python",
   "name": "python3"
  },
  "language_info": {
   "codemirror_mode": {
    "name": "ipython",
    "version": 3
   },
   "file_extension": ".py",
   "mimetype": "text/x-python",
   "name": "python",
   "nbconvert_exporter": "python",
   "pygments_lexer": "ipython3",
   "version": "3.8.3"
  }
 },
 "nbformat": 4,
 "nbformat_minor": 4
}
