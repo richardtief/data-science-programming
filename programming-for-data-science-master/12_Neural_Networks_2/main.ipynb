{
 "cells": [
  {
   "cell_type": "code",
   "execution_count": 22,
   "metadata": {},
   "outputs": [],
   "source": [
    "from tensorflow.keras.datasets import mnist\n",
    "from tensorflow.keras import models, layers\n",
    "from tensorflow.keras import utils\n",
    "from tensorflow.keras import losses\n",
    "import numpy as np\n",
    "import matplotlib.pyplot as plt\n",
    "import random"
   ]
  },
  {
   "cell_type": "markdown",
   "metadata": {},
   "source": [
    "## Step 0\n",
    "- Get the MNIST dataset from keras.\n",
    "- Use the predefined split into training and test data."
   ]
  },
  {
   "cell_type": "code",
   "execution_count": 5,
   "metadata": {},
   "outputs": [],
   "source": [
    "(train_x, train_y), (test_x, test_y) = mnist.load_data()"
   ]
  },
  {
   "cell_type": "markdown",
   "metadata": {},
   "source": [
    "- Reshape and scale your data."
   ]
  },
  {
   "cell_type": "code",
   "execution_count": 20,
   "metadata": {},
   "outputs": [
    {
     "name": "stdout",
     "output_type": "stream",
     "text": [
      "(28, 28, 1)\n"
     ]
    }
   ],
   "source": [
    "def reshape_x(x: np.ndarray):\n",
    "    shape = x.shape\n",
    "    # Add one color channel\n",
    "    return x.reshape(*shape, 1)\n",
    "\n",
    "def reshape_y(y: np.ndarray):\n",
    "    return np.array(list(map(lambda x: np.identity(10)[x], y)))\n",
    "\n",
    "train_x_reshaped = reshape_x(train_x)\n",
    "train_y_reshaped = reshape_y(train_y)\n",
    "\n",
    "test_x_reshaped = reshape_x(test_x)\n",
    "test_y_reshaped = reshape_y(test_y)\n",
    "\n",
    "input_shape = (*train_x.shape[-2:], 1)\n",
    "print(input_shape)"
   ]
  },
  {
   "cell_type": "markdown",
   "metadata": {},
   "source": [
    "### Plot example"
   ]
  },
  {
   "cell_type": "code",
   "execution_count": 14,
   "metadata": {},
   "outputs": [
    {
     "data": {
      "image/png": "[encoded data removed]",
      "text/plain": [
       "<Figure size 432x288 with 1 Axes>"
      ]
     },
     "metadata": {
      "needs_background": "light"
     },
     "output_type": "display_data"
    }
   ],
   "source": [
    "plt.imshow(train_x[0])\n",
    "plt.show()"
   ]
  },
  {
   "cell_type": "markdown",
   "metadata": {},
   "source": [
    "# Step 1\n",
    "- Use a CNN* with two convolutional layers (32 and 64 filters, kernel size 3x3, same padding),one max pooling layer (pool size 2x2) and at least one dense layer to classify all digits from their images.\n",
    "- Other parameters: RELU activations, categorical cross entropy, accuracy metric, the Adam optimizer, 12 epochs and a batch size of 32.\n",
    "- Evaluate the NN on the test data."
   ]
  },
  {
   "cell_type": "code",
   "execution_count": 21,
   "metadata": {},
   "outputs": [
    {
     "name": "stdout",
     "output_type": "stream",
     "text": [
      "Train on 60000 samples\n",
      "Epoch 1/12\n",
      "60000/60000 [==============================] - 144s 2ms/sample - loss: 0.2842 - accuracy: 0.9556\n",
      "Epoch 2/12\n",
      "60000/60000 [==============================] - 151s 3ms/sample - loss: 0.0654 - accuracy: 0.9806\n",
      "Epoch 3/12\n",
      "60000/60000 [==============================] - 124s 2ms/sample - loss: 0.0500 - accuracy: 0.9845\n",
      "Epoch 4/12\n",
      "60000/60000 [==============================] - 127s 2ms/sample - loss: 0.0396 - accuracy: 0.9883\n",
      "Epoch 5/12\n",
      "60000/60000 [==============================] - 149s 2ms/sample - loss: 0.0350 - accuracy: 0.9889\n",
      "Epoch 6/12\n",
      "60000/60000 [==============================] - 139s 2ms/sample - loss: 0.0280 - accuracy: 0.9916\n",
      "Epoch 7/12\n",
      "60000/60000 [==============================] - 129s 2ms/sample - loss: 0.0234 - accuracy: 0.9926\n",
      "Epoch 8/12\n",
      "60000/60000 [==============================] - 150s 2ms/sample - loss: 0.0233 - accuracy: 0.9933\n",
      "Epoch 9/12\n",
      "60000/60000 [==============================] - 145s 2ms/sample - loss: 0.0217 - accuracy: 0.9941\n",
      "Epoch 10/12\n",
      "60000/60000 [==============================] - 142s 2ms/sample - loss: 0.0195 - accuracy: 0.9949\n",
      "Epoch 11/12\n",
      "60000/60000 [==============================] - 150s 3ms/sample - loss: 0.0155 - accuracy: 0.9960\n",
      "Epoch 12/12\n",
      "60000/60000 [==============================] - 141s 2ms/sample - loss: 0.0188 - accuracy: 0.9953\n"
     ]
    },
    {
     "data": {
      "text/plain": [
       "<tensorflow.python.keras.callbacks.History at 0x1339006d8>"
      ]
     },
     "execution_count": 21,
     "metadata": {},
     "output_type": "execute_result"
    }
   ],
   "source": [
    "model = models.Sequential([\n",
    "    layers.Conv2D(32, kernel_size=(3, 3), activation='relu', input_shape=input_shape),\n",
    "    layers.Conv2D(64, kernel_size=(3, 3), activation='relu'),\n",
    "    layers.MaxPool2D(),\n",
    "    layers.Flatten(),\n",
    "    layers.Dense(10, activation='softmax')\n",
    "])\n",
    "model.compile(loss=losses.categorical_crossentropy, optimizer='adam', metrics=['accuracy'])\n",
    "model.fit(train_x_reshaped, train_y_reshaped, batch_size=32, epochs=12)"
   ]
  },
  {
   "cell_type": "code",
   "execution_count": 24,
   "metadata": {},
   "outputs": [],
   "source": [
    "model.save('trained_model.h5')"
   ]
  },
  {
   "cell_type": "code",
   "execution_count": 30,
   "metadata": {},
   "outputs": [],
   "source": [
    "model = models.load_model('trained_model.h5')"
   ]
  },
  {
   "cell_type": "code",
   "execution_count": 53,
   "metadata": {},
   "outputs": [
    {
     "data": {
      "image/png": "[encoded data removed]",
      "text/plain": [
       "<Figure size 432x288 with 12 Axes>"
      ]
     },
     "metadata": {
      "needs_background": "light"
     },
     "output_type": "display_data"
    }
   ],
   "source": [
    "prediction = model.predict(test_x_reshaped)\n",
    "rows = 4\n",
    "cols = 3\n",
    "for a in range(rows * cols):\n",
    "    i = random.randrange(0, len(test_x))\n",
    "    plt.subplot(rows, cols, a + 1)\n",
    "    \n",
    "    pred = max(enumerate(prediction[i]), key=lambda x: x[1])\n",
    "    actual = test_y[i]\n",
    "    plt.title(f'Guess: {pred[0]}; Actual: {actual}')\n",
    "    plt.axis('off')\n",
    "    plt.imshow(test_x[i])\n",
    "\n",
    "plt.tight_layout()\n",
    "plt.show()"
   ]
  }
 ],
 "metadata": {
  "kernelspec": {
   "display_name": "Python 3",
   "language": "python",
   "name": "python3"
  },
  "language_info": {
   "codemirror_mode": {
    "name": "ipython",
    "version": 3
   },
   "file_extension": ".py",
   "mimetype": "text/x-python",
   "name": "python",
   "nbconvert_exporter": "python",
   "pygments_lexer": "ipython3",
   "version": "3.8.3"
  }
 },
 "nbformat": 4,
 "nbformat_minor": 4
}
