{
 "cells": [
  {
   "cell_type": "markdown",
   "metadata": {},
   "source": [
    "# Data Cleaning"
   ]
  },
  {
   "cell_type": "code",
   "execution_count": 1,
   "metadata": {},
   "outputs": [],
   "source": [
    "import pandas as pd\n",
    "from typing import Tuple\n",
    "import numpy as np"
   ]
  },
  {
   "cell_type": "markdown",
   "metadata": {},
   "source": [
    "## Step 0\n",
    "- You will get a csv file from us. Load it in your language/environment.\n",
    "- Explore the data in it."
   ]
  },
  {
   "cell_type": "code",
   "execution_count": 2,
   "metadata": {},
   "outputs": [
    {
     "data": {
      "text/html": [
       "<div>\n",
       "<style scoped>\n",
       "    .dataframe tbody tr th:only-of-type {\n",
       "        vertical-align: middle;\n",
       "    }\n",
       "\n",
       "    .dataframe tbody tr th {\n",
       "        vertical-align: top;\n",
       "    }\n",
       "\n",
       "    .dataframe thead th {\n",
       "        text-align: right;\n",
       "    }\n",
       "</style>\n",
       "<table border=\"1\" class=\"dataframe\">\n",
       "  <thead>\n",
       "    <tr style=\"text-align: right;\">\n",
       "      <th></th>\n",
       "      <th>temperature</th>\n",
       "    </tr>\n",
       "    <tr>\n",
       "      <th>timestamp</th>\n",
       "      <th></th>\n",
       "    </tr>\n",
       "  </thead>\n",
       "  <tbody>\n",
       "    <tr>\n",
       "      <th>2018-08-10 21:20:00</th>\n",
       "      <td>16.5</td>\n",
       "    </tr>\n",
       "    <tr>\n",
       "      <th>2018-08-10 21:30:00</th>\n",
       "      <td>16.4</td>\n",
       "    </tr>\n",
       "    <tr>\n",
       "      <th>2018-08-10 21:40:00</th>\n",
       "      <td>16.1</td>\n",
       "    </tr>\n",
       "    <tr>\n",
       "      <th>2018-08-10 21:50:00</th>\n",
       "      <td>16.3</td>\n",
       "    </tr>\n",
       "    <tr>\n",
       "      <th>2018-08-10 22:00:00</th>\n",
       "      <td>16.3</td>\n",
       "    </tr>\n",
       "    <tr>\n",
       "      <th>...</th>\n",
       "      <td>...</td>\n",
       "    </tr>\n",
       "    <tr>\n",
       "      <th>2019-09-25 23:10:00</th>\n",
       "      <td>12.7</td>\n",
       "    </tr>\n",
       "    <tr>\n",
       "      <th>2019-09-25 23:20:00</th>\n",
       "      <td>12.8</td>\n",
       "    </tr>\n",
       "    <tr>\n",
       "      <th>2019-09-25 23:30:00</th>\n",
       "      <td>12.6</td>\n",
       "    </tr>\n",
       "    <tr>\n",
       "      <th>2019-09-25 23:40:00</th>\n",
       "      <td>12.5</td>\n",
       "    </tr>\n",
       "    <tr>\n",
       "      <th>2019-09-25 23:50:00</th>\n",
       "      <td>12.8</td>\n",
       "    </tr>\n",
       "  </tbody>\n",
       "</table>\n",
       "<p>59158 rows × 1 columns</p>\n",
       "</div>"
      ],
      "text/plain": [
       "                     temperature\n",
       "timestamp                       \n",
       "2018-08-10 21:20:00         16.5\n",
       "2018-08-10 21:30:00         16.4\n",
       "2018-08-10 21:40:00         16.1\n",
       "2018-08-10 21:50:00         16.3\n",
       "2018-08-10 22:00:00         16.3\n",
       "...                          ...\n",
       "2019-09-25 23:10:00         12.7\n",
       "2019-09-25 23:20:00         12.8\n",
       "2019-09-25 23:30:00         12.6\n",
       "2019-09-25 23:40:00         12.5\n",
       "2019-09-25 23:50:00         12.8\n",
       "\n",
       "[59158 rows x 1 columns]"
      ]
     },
     "execution_count": 2,
     "metadata": {},
     "output_type": "execute_result"
    }
   ],
   "source": [
    "data_frame = pd.read_csv('data-cleaning.csv')\n",
    "\n",
    "data_frame['timestamp'] = pd.to_datetime(data_frame['timestamp'])\n",
    "data_frame = data_frame.set_index('timestamp')\n",
    "\n",
    "data_frame"
   ]
  },
  {
   "cell_type": "markdown",
   "metadata": {},
   "source": [
    "## Step 1\n",
    "- Implement a Interquartile range filter (IRQ)* and a z-score filter*."
   ]
  },
  {
   "cell_type": "code",
   "execution_count": 3,
   "metadata": {},
   "outputs": [],
   "source": [
    "def iqr(table: pd.DataFrame) -> Tuple[np.float64, np.float64]:\n",
    "    q_25 = table.quantile(0.25)\n",
    "    q_75 = table.quantile(0.75)\n",
    "    iqr_value = q_75 - q_25\n",
    "    lower_limit = q_25 - 1.5 * iqr_value\n",
    "    upper_limit = q_75 + 1.5 * iqr_value\n",
    "    return np.float64(lower_limit), np.float64(upper_limit)\n",
    "\n",
    "\n",
    "def z_score(table: pd.DataFrame) -> Tuple[np.float64, np.float64]:\n",
    "    mean = table['temperature'].mean()\n",
    "    std = table['temperature'].std()\n",
    "    return mean - 3 * std, mean + 3 * std"
   ]
  },
  {
   "cell_type": "markdown",
   "metadata": {},
   "source": [
    "- Find outliers in the data."
   ]
  },
  {
   "cell_type": "code",
   "execution_count": 4,
   "metadata": {},
   "outputs": [
    {
     "name": "stdout",
     "output_type": "stream",
     "text": [
      "IQR outliers < -14.150000000000002 or > 37.45\n",
      "z-score outliers < -13.162215781558539 or > 36.95015993112411\n"
     ]
    }
   ],
   "source": [
    "lower, upper = iqr(data_frame)\n",
    "print(f'IQR outliers < {lower} or > {upper}')\n",
    "\n",
    "lower, upper = z_score(data_frame)\n",
    "print(f'z-score outliers < {lower} or > {upper}')"
   ]
  },
  {
   "cell_type": "markdown",
   "metadata": {},
   "source": [
    "- Replace outliers with NA values.\n"
   ]
  },
  {
   "cell_type": "code",
   "execution_count": 5,
   "metadata": {},
   "outputs": [
    {
     "name": "stdout",
     "output_type": "stream",
     "text": [
      "Replaced 2 outlier(s) with NaN.\n"
     ]
    }
   ],
   "source": [
    "data_frame['temperature'] = data_frame['temperature'].where(data_frame['temperature'].between(lower, upper))\n",
    "print(f'Replaced {data_frame[\"temperature\"].isna().sum()} outlier(s) with NaN.')"
   ]
  },
  {
   "cell_type": "markdown",
   "metadata": {},
   "source": [
    "## Step 2\n",
    "- Fill all missing data points with NA.\n"
   ]
  },
  {
   "cell_type": "code",
   "execution_count": 6,
   "metadata": {},
   "outputs": [
    {
     "name": "stdout",
     "output_type": "stream",
     "text": [
      "Filled 42 gaps with NaN.\n"
     ]
    }
   ],
   "source": [
    "old_size = len(data_frame['temperature'])\n",
    "data_frame = data_frame.resample('10Min').asfreq()\n",
    "print(f'Filled {len(data_frame[\"temperature\"]) - old_size} gaps with NaN.')"
   ]
  },
  {
   "cell_type": "markdown",
   "metadata": {},
   "source": [
    "- Implement a step interpolation* and a linear interpolation*."
   ]
  },
  {
   "cell_type": "code",
   "execution_count": 1,
   "metadata": {},
   "outputs": [
    {
     "ename": "NameError",
     "evalue": "name 'pd' is not defined",
     "output_type": "error",
     "traceback": [
      "\u001b[0;31m---------------------------------------------------------------------------\u001b[0m",
      "\u001b[0;31mNameError\u001b[0m                                 Traceback (most recent call last)",
      "\u001b[0;32m<ipython-input-1-cbe0e5718340>\u001b[0m in \u001b[0;36m<module>\u001b[0;34m\u001b[0m\n\u001b[1;32m      7\u001b[0m \u001b[0;34m\u001b[0m\u001b[0m\n\u001b[1;32m      8\u001b[0m \u001b[0;34m\u001b[0m\u001b[0m\n\u001b[0;32m----> 9\u001b[0;31m \u001b[0;32mdef\u001b[0m \u001b[0minterpolate\u001b[0m\u001b[0;34m(\u001b[0m\u001b[0mdata_frame\u001b[0m\u001b[0;34m:\u001b[0m \u001b[0mpd\u001b[0m\u001b[0;34m.\u001b[0m\u001b[0mDataFrame\u001b[0m\u001b[0;34m,\u001b[0m \u001b[0minterpolate_function\u001b[0m\u001b[0;34m)\u001b[0m\u001b[0;34m:\u001b[0m\u001b[0;34m\u001b[0m\u001b[0;34m\u001b[0m\u001b[0m\n\u001b[0m\u001b[1;32m     10\u001b[0m     \u001b[0;32mdef\u001b[0m \u001b[0mcalculate_interpolation\u001b[0m\u001b[0;34m(\u001b[0m\u001b[0mstart\u001b[0m\u001b[0;34m,\u001b[0m \u001b[0mend\u001b[0m\u001b[0;34m,\u001b[0m \u001b[0mtimestamps\u001b[0m\u001b[0;34m)\u001b[0m\u001b[0;34m:\u001b[0m\u001b[0;34m\u001b[0m\u001b[0;34m\u001b[0m\u001b[0m\n\u001b[1;32m     11\u001b[0m         \u001b[0msize\u001b[0m \u001b[0;34m=\u001b[0m \u001b[0mlen\u001b[0m\u001b[0;34m(\u001b[0m\u001b[0mtimestamps\u001b[0m\u001b[0;34m)\u001b[0m\u001b[0;34m\u001b[0m\u001b[0;34m\u001b[0m\u001b[0m\n",
      "\u001b[0;31mNameError\u001b[0m: name 'pd' is not defined"
     ]
    }
   ],
   "source": [
    "def interpolate_linear(start, end, percent):\n",
    "    return (1 - percent) * start + percent * end\n",
    "\n",
    "\n",
    "def interpolate_step(start, end, percent):\n",
    "    return start if percent < 0.5 else end\n",
    "\n",
    "\n",
    "def interpolate(data_frame: pd.DataFrame, interpolate_function):\n",
    "    def calculate_interpolation(start, end, timestamps):\n",
    "        size = len(timestamps)\n",
    "        percent_in_missing_values = (((i + 1) / (size + 1), timestamp) for i, timestamp in enumerate(timestamps))\n",
    "        for percent, timestamp in percent_in_missing_values:\n",
    "            data_frame['temperature'][timestamp] = round(interpolate_function(start, end, percent), 1)\n",
    "\n",
    "        print(data_frame[timestamps[0]:timestamps[-1]])\n",
    "\n",
    "    last_valid_temperature = None\n",
    "    gap_timestamps = []\n",
    "\n",
    "    for timestamp, temperature in data_frame.itertuples():\n",
    "        if not np.isnan(temperature):\n",
    "            # valid value\n",
    "            if gap_timestamps and last_valid_temperature is not None:\n",
    "                # end of gap chain reached, now interpolate and reset\n",
    "                calculate_interpolation(last_valid_temperature, temperature, gap_timestamps)\n",
    "                print(f'Interpolated between {gap_timestamps[0]} and {timestamp}.')\n",
    "                gap_timestamps = []\n",
    "            last_valid_temperature = temperature\n",
    "        else:\n",
    "            # store NA row\n",
    "            gap_timestamps.append(timestamp)\n",
    "\n",
    "    return data_frame"
   ]
  },
  {
   "cell_type": "markdown",
   "metadata": {},
   "source": [
    "- Replace all NA values with the interpolated values."
   ]
  },
  {
   "cell_type": "code",
   "execution_count": 8,
   "metadata": {},
   "outputs": [
    {
     "name": "stdout",
     "output_type": "stream",
     "text": [
      "                     temperature\n",
      "timestamp                       \n",
      "2018-10-19 08:00:00         10.6\n",
      "Interpolated between 2018-10-19 08:00:00 and 2018-10-19 08:10:00.\n",
      "                     temperature\n",
      "timestamp                       \n",
      "2018-11-11 18:30:00          9.8\n",
      "2018-11-11 18:40:00          9.8\n",
      "2018-11-11 18:50:00          9.8\n",
      "2018-11-11 19:00:00          9.9\n",
      "2018-11-11 19:10:00          9.9\n",
      "2018-11-11 19:20:00          9.9\n",
      "2018-11-11 19:30:00          9.9\n",
      "2018-11-11 19:40:00          9.9\n",
      "2018-11-11 19:50:00          9.9\n",
      "2018-11-11 20:00:00         10.0\n",
      "2018-11-11 20:10:00         10.0\n",
      "2018-11-11 20:20:00         10.0\n",
      "Interpolated between 2018-11-11 18:30:00 and 2018-11-11 20:30:00.\n",
      "                     temperature\n",
      "timestamp                       \n",
      "2019-01-27 23:40:00          4.3\n",
      "2019-01-27 23:50:00          4.2\n",
      "2019-01-28 00:00:00          4.2\n",
      "2019-01-28 00:10:00          4.1\n",
      "2019-01-28 00:20:00          4.0\n",
      "2019-01-28 00:30:00          3.9\n",
      "2019-01-28 00:40:00          3.9\n",
      "2019-01-28 00:50:00          3.8\n",
      "2019-01-28 01:00:00          3.7\n",
      "2019-01-28 01:10:00          3.6\n",
      "2019-01-28 01:20:00          3.6\n",
      "2019-01-28 01:30:00          3.5\n",
      "2019-01-28 01:40:00          3.4\n",
      "2019-01-28 01:50:00          3.3\n",
      "2019-01-28 02:00:00          3.3\n",
      "2019-01-28 02:10:00          3.2\n",
      "2019-01-28 02:20:00          3.1\n",
      "2019-01-28 02:30:00          3.0\n",
      "2019-01-28 02:40:00          3.0\n",
      "2019-01-28 02:50:00          2.9\n",
      "2019-01-28 03:00:00          2.8\n",
      "2019-01-28 03:10:00          2.7\n",
      "2019-01-28 03:20:00          2.7\n",
      "2019-01-28 03:30:00          2.6\n",
      "2019-01-28 03:40:00          2.5\n",
      "2019-01-28 03:50:00          2.4\n",
      "2019-01-28 04:00:00          2.4\n",
      "2019-01-28 04:10:00          2.3\n",
      "Interpolated between 2019-01-27 23:40:00 and 2019-01-28 04:20:00.\n",
      "                     temperature\n",
      "timestamp                       \n",
      "2019-05-15 22:40:00          6.5\n",
      "Interpolated between 2019-05-15 22:40:00 and 2019-05-15 22:50:00.\n",
      "                     temperature\n",
      "timestamp                       \n",
      "2019-05-24 02:50:00          6.7\n",
      "2019-05-24 03:00:00          6.6\n",
      "Interpolated between 2019-05-24 02:50:00 and 2019-05-24 03:10:00.\n",
      "Interpolated 44 values.\n"
     ]
    }
   ],
   "source": [
    "nan_count = data_frame['temperature'].isna().sum()\n",
    "data_frame = interpolate(data_frame, interpolate_linear) # interpolate_linear or interpolate_step\n",
    "print(f'Interpolated {nan_count - data_frame[\"temperature\"].isna().sum()} values.')"
   ]
  }
 ],
 "metadata": {
  "kernelspec": {
   "display_name": "Python 3",
   "language": "python",
   "name": "python3"
  },
  "language_info": {
   "codemirror_mode": {
    "name": "ipython",
    "version": 3
   },
   "file_extension": ".py",
   "mimetype": "text/x-python",
   "name": "python",
   "nbconvert_exporter": "python",
   "pygments_lexer": "ipython3",
   "version": "3.8.3"
  }
 },
 "nbformat": 4,
 "nbformat_minor": 4
}
