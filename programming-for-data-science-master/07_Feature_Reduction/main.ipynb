{
 "cells": [
  {
   "cell_type": "markdown",
   "metadata": {},
   "source": [
    "# Feature Reduction"
   ]
  },
  {
   "cell_type": "code",
   "execution_count": 1,
   "metadata": {},
   "outputs": [],
   "source": [
    "import pandas as pd\n",
    "from sklearn.model_selection import train_test_split\n",
    "from sklearn.linear_model import LinearRegression, Lasso\n",
    "from sklearn.metrics import mean_squared_error\n",
    "\n",
    "from collections import namedtuple, Counter\n",
    "from typing import Set\n",
    "import itertools\n",
    "import numpy as np\n",
    "import matplotlib.pyplot as plt"
   ]
  },
  {
   "cell_type": "markdown",
   "metadata": {},
   "source": [
    "## Step 0\n",
    "- You will get a csv file from us. Load it in your language/environment.\n",
    "- Explore the data in it. Identify features and labels."
   ]
  },
  {
   "cell_type": "code",
   "execution_count": 2,
   "metadata": {},
   "outputs": [],
   "source": [
    "data_frame = pd.read_csv('diabetes.csv')"
   ]
  },
  {
   "cell_type": "code",
   "execution_count": 3,
   "metadata": {},
   "outputs": [
    {
     "data": {
      "text/plain": [
       "age        float64\n",
       "sex        float64\n",
       "bmi        float64\n",
       "bp         float64\n",
       "s1         float64\n",
       "s2         float64\n",
       "s3         float64\n",
       "s4         float64\n",
       "s5         float64\n",
       "s6         float64\n",
       "disease    float64\n",
       "dtype: object"
      ]
     },
     "execution_count": 3,
     "metadata": {},
     "output_type": "execute_result"
    }
   ],
   "source": [
    "data_frame.dtypes"
   ]
  },
  {
   "cell_type": "code",
   "execution_count": 4,
   "metadata": {},
   "outputs": [
    {
     "data": {
      "text/html": [
       "<div>\n",
       "<style scoped>\n",
       "    .dataframe tbody tr th:only-of-type {\n",
       "        vertical-align: middle;\n",
       "    }\n",
       "\n",
       "    .dataframe tbody tr th {\n",
       "        vertical-align: top;\n",
       "    }\n",
       "\n",
       "    .dataframe thead th {\n",
       "        text-align: right;\n",
       "    }\n",
       "</style>\n",
       "<table border=\"1\" class=\"dataframe\">\n",
       "  <thead>\n",
       "    <tr style=\"text-align: right;\">\n",
       "      <th></th>\n",
       "      <th>age</th>\n",
       "      <th>sex</th>\n",
       "      <th>bmi</th>\n",
       "      <th>bp</th>\n",
       "      <th>s1</th>\n",
       "      <th>s2</th>\n",
       "      <th>s3</th>\n",
       "      <th>s4</th>\n",
       "      <th>s5</th>\n",
       "      <th>s6</th>\n",
       "      <th>disease</th>\n",
       "    </tr>\n",
       "  </thead>\n",
       "  <tbody>\n",
       "    <tr>\n",
       "      <th>0</th>\n",
       "      <td>0.038076</td>\n",
       "      <td>0.050680</td>\n",
       "      <td>0.061696</td>\n",
       "      <td>0.021872</td>\n",
       "      <td>-0.044223</td>\n",
       "      <td>-0.034821</td>\n",
       "      <td>-0.043401</td>\n",
       "      <td>-0.002592</td>\n",
       "      <td>0.019908</td>\n",
       "      <td>-0.017646</td>\n",
       "      <td>151.0</td>\n",
       "    </tr>\n",
       "    <tr>\n",
       "      <th>1</th>\n",
       "      <td>-0.001882</td>\n",
       "      <td>-0.044642</td>\n",
       "      <td>-0.051474</td>\n",
       "      <td>-0.026328</td>\n",
       "      <td>-0.008449</td>\n",
       "      <td>-0.019163</td>\n",
       "      <td>0.074412</td>\n",
       "      <td>-0.039493</td>\n",
       "      <td>-0.068330</td>\n",
       "      <td>-0.092204</td>\n",
       "      <td>75.0</td>\n",
       "    </tr>\n",
       "    <tr>\n",
       "      <th>2</th>\n",
       "      <td>0.085299</td>\n",
       "      <td>0.050680</td>\n",
       "      <td>0.044451</td>\n",
       "      <td>-0.005671</td>\n",
       "      <td>-0.045599</td>\n",
       "      <td>-0.034194</td>\n",
       "      <td>-0.032356</td>\n",
       "      <td>-0.002592</td>\n",
       "      <td>0.002864</td>\n",
       "      <td>-0.025930</td>\n",
       "      <td>141.0</td>\n",
       "    </tr>\n",
       "    <tr>\n",
       "      <th>3</th>\n",
       "      <td>-0.089063</td>\n",
       "      <td>-0.044642</td>\n",
       "      <td>-0.011595</td>\n",
       "      <td>-0.036656</td>\n",
       "      <td>0.012191</td>\n",
       "      <td>0.024991</td>\n",
       "      <td>-0.036038</td>\n",
       "      <td>0.034309</td>\n",
       "      <td>0.022692</td>\n",
       "      <td>-0.009362</td>\n",
       "      <td>206.0</td>\n",
       "    </tr>\n",
       "    <tr>\n",
       "      <th>4</th>\n",
       "      <td>0.005383</td>\n",
       "      <td>-0.044642</td>\n",
       "      <td>-0.036385</td>\n",
       "      <td>0.021872</td>\n",
       "      <td>0.003935</td>\n",
       "      <td>0.015596</td>\n",
       "      <td>0.008142</td>\n",
       "      <td>-0.002592</td>\n",
       "      <td>-0.031991</td>\n",
       "      <td>-0.046641</td>\n",
       "      <td>135.0</td>\n",
       "    </tr>\n",
       "    <tr>\n",
       "      <th>...</th>\n",
       "      <td>...</td>\n",
       "      <td>...</td>\n",
       "      <td>...</td>\n",
       "      <td>...</td>\n",
       "      <td>...</td>\n",
       "      <td>...</td>\n",
       "      <td>...</td>\n",
       "      <td>...</td>\n",
       "      <td>...</td>\n",
       "      <td>...</td>\n",
       "      <td>...</td>\n",
       "    </tr>\n",
       "    <tr>\n",
       "      <th>437</th>\n",
       "      <td>0.041708</td>\n",
       "      <td>0.050680</td>\n",
       "      <td>0.019662</td>\n",
       "      <td>0.059744</td>\n",
       "      <td>-0.005697</td>\n",
       "      <td>-0.002566</td>\n",
       "      <td>-0.028674</td>\n",
       "      <td>-0.002592</td>\n",
       "      <td>0.031193</td>\n",
       "      <td>0.007207</td>\n",
       "      <td>178.0</td>\n",
       "    </tr>\n",
       "    <tr>\n",
       "      <th>438</th>\n",
       "      <td>-0.005515</td>\n",
       "      <td>0.050680</td>\n",
       "      <td>-0.015906</td>\n",
       "      <td>-0.067642</td>\n",
       "      <td>0.049341</td>\n",
       "      <td>0.079165</td>\n",
       "      <td>-0.028674</td>\n",
       "      <td>0.034309</td>\n",
       "      <td>-0.018118</td>\n",
       "      <td>0.044485</td>\n",
       "      <td>104.0</td>\n",
       "    </tr>\n",
       "    <tr>\n",
       "      <th>439</th>\n",
       "      <td>0.041708</td>\n",
       "      <td>0.050680</td>\n",
       "      <td>-0.015906</td>\n",
       "      <td>0.017282</td>\n",
       "      <td>-0.037344</td>\n",
       "      <td>-0.013840</td>\n",
       "      <td>-0.024993</td>\n",
       "      <td>-0.011080</td>\n",
       "      <td>-0.046879</td>\n",
       "      <td>0.015491</td>\n",
       "      <td>132.0</td>\n",
       "    </tr>\n",
       "    <tr>\n",
       "      <th>440</th>\n",
       "      <td>-0.045472</td>\n",
       "      <td>-0.044642</td>\n",
       "      <td>0.039062</td>\n",
       "      <td>0.001215</td>\n",
       "      <td>0.016318</td>\n",
       "      <td>0.015283</td>\n",
       "      <td>-0.028674</td>\n",
       "      <td>0.026560</td>\n",
       "      <td>0.044528</td>\n",
       "      <td>-0.025930</td>\n",
       "      <td>220.0</td>\n",
       "    </tr>\n",
       "    <tr>\n",
       "      <th>441</th>\n",
       "      <td>-0.045472</td>\n",
       "      <td>-0.044642</td>\n",
       "      <td>-0.073030</td>\n",
       "      <td>-0.081414</td>\n",
       "      <td>0.083740</td>\n",
       "      <td>0.027809</td>\n",
       "      <td>0.173816</td>\n",
       "      <td>-0.039493</td>\n",
       "      <td>-0.004220</td>\n",
       "      <td>0.003064</td>\n",
       "      <td>57.0</td>\n",
       "    </tr>\n",
       "  </tbody>\n",
       "</table>\n",
       "<p>442 rows × 11 columns</p>\n",
       "</div>"
      ],
      "text/plain": [
       "          age       sex       bmi        bp        s1        s2        s3  \\\n",
       "0    0.038076  0.050680  0.061696  0.021872 -0.044223 -0.034821 -0.043401   \n",
       "1   -0.001882 -0.044642 -0.051474 -0.026328 -0.008449 -0.019163  0.074412   \n",
       "2    0.085299  0.050680  0.044451 -0.005671 -0.045599 -0.034194 -0.032356   \n",
       "3   -0.089063 -0.044642 -0.011595 -0.036656  0.012191  0.024991 -0.036038   \n",
       "4    0.005383 -0.044642 -0.036385  0.021872  0.003935  0.015596  0.008142   \n",
       "..        ...       ...       ...       ...       ...       ...       ...   \n",
       "437  0.041708  0.050680  0.019662  0.059744 -0.005697 -0.002566 -0.028674   \n",
       "438 -0.005515  0.050680 -0.015906 -0.067642  0.049341  0.079165 -0.028674   \n",
       "439  0.041708  0.050680 -0.015906  0.017282 -0.037344 -0.013840 -0.024993   \n",
       "440 -0.045472 -0.044642  0.039062  0.001215  0.016318  0.015283 -0.028674   \n",
       "441 -0.045472 -0.044642 -0.073030 -0.081414  0.083740  0.027809  0.173816   \n",
       "\n",
       "           s4        s5        s6  disease  \n",
       "0   -0.002592  0.019908 -0.017646    151.0  \n",
       "1   -0.039493 -0.068330 -0.092204     75.0  \n",
       "2   -0.002592  0.002864 -0.025930    141.0  \n",
       "3    0.034309  0.022692 -0.009362    206.0  \n",
       "4   -0.002592 -0.031991 -0.046641    135.0  \n",
       "..        ...       ...       ...      ...  \n",
       "437 -0.002592  0.031193  0.007207    178.0  \n",
       "438  0.034309 -0.018118  0.044485    104.0  \n",
       "439 -0.011080 -0.046879  0.015491    132.0  \n",
       "440  0.026560  0.044528 -0.025930    220.0  \n",
       "441 -0.039493 -0.004220  0.003064     57.0  \n",
       "\n",
       "[442 rows x 11 columns]"
      ]
     },
     "execution_count": 4,
     "metadata": {},
     "output_type": "execute_result"
    }
   ],
   "source": [
    "data_frame"
   ]
  },
  {
   "cell_type": "markdown",
   "metadata": {},
   "source": [
    "## Step 1\n",
    "- Split your data into training and test set. Use a ratio of 80-20."
   ]
  },
  {
   "cell_type": "code",
   "execution_count": 6,
   "metadata": {},
   "outputs": [],
   "source": [
    "training_set, test_set = train_test_split(data_frame, test_size=0.2)\n",
    "train_X: pd.DataFrame = training_set.drop('disease', axis=1)\n",
    "train_y = training_set['disease']\n",
    "    \n",
    "test_X: pd.DataFrame = test_set.drop('disease', axis=1)\n",
    "test_y = test_set['disease']"
   ]
  },
  {
   "cell_type": "markdown",
   "metadata": {},
   "source": [
    "- Use OLS to predict the labels. Report the MSE for training and test set."
   ]
  },
  {
   "cell_type": "code",
   "execution_count": 7,
   "metadata": {},
   "outputs": [
    {
     "name": "stdout",
     "output_type": "stream",
     "text": [
      "OLS MSE training: 2865.3943733468864\n",
      "OLS MSE test: 2933.6877101175514\n"
     ]
    }
   ],
   "source": [
    "regression: LinearRegression = LinearRegression().fit(train_X, train_y)\n",
    "\n",
    "print('OLS MSE training:', mean_squared_error(train_y, regression.predict(train_X)))\n",
    "print('OLS MSE test:', mean_squared_error(test_y, regression.predict(test_X)))"
   ]
  },
  {
   "cell_type": "markdown",
   "metadata": {},
   "source": [
    "## Step 2\n",
    "- Use Lasso regression to automatically reduce the feature space ($\\lambda = 0.1$). Report the MSE for the training and test set."
   ]
  },
  {
   "cell_type": "code",
   "execution_count": 8,
   "metadata": {},
   "outputs": [
    {
     "name": "stdout",
     "output_type": "stream",
     "text": [
      "Lasso MSE training: 2924.289742302172\n",
      "Lasso MSE test: 3072.028673982145\n"
     ]
    }
   ],
   "source": [
    "lasso = Lasso(alpha=0.1).fit(train_X, train_y)\n",
    "\n",
    "print('Lasso MSE training:', mean_squared_error(train_y, lasso.predict(train_X)))\n",
    "print('Lasso MSE test:', mean_squared_error(test_y, lasso.predict(test_X)))"
   ]
  },
  {
   "cell_type": "markdown",
   "metadata": {},
   "source": [
    "## Step 3\n",
    "- Implement a correlation-based feature selection*. Use 0.6 as a threshold.\n"
   ]
  },
  {
   "cell_type": "code",
   "execution_count": 9,
   "metadata": {},
   "outputs": [
    {
     "name": "stdout",
     "output_type": "stream",
     "text": [
      "{'s2', 's4'}\n"
     ]
    }
   ],
   "source": [
    "correlation_matrix = data_frame.corr()\n",
    "Correlation = namedtuple('Correlation', ['feature_1', 'feature_2', 'value'])\n",
    "correlations: Set[Correlation] = set()\n",
    "for feature_1, feature_2 in itertools.combinations(correlation_matrix.columns, r=2):\n",
    "    value = correlation_matrix[feature_1][feature_2]\n",
    "    if value > 0.6:\n",
    "        # Correlation found\n",
    "        correlations.add(Correlation(feature_1, feature_2, value))\n",
    "\n",
    "features_to_remove = set()\n",
    "\n",
    "while correlations:\n",
    "    feature_list = []\n",
    "    for correlation in correlations:\n",
    "        feature_list.append(correlation.feature_1)\n",
    "        feature_list.append(correlation.feature_2)\n",
    "        \n",
    "    features_sorted_by_correlations = Counter(feature_list).most_common()\n",
    "\n",
    "    max_feature_count = features_sorted_by_correlations[0][1]\n",
    "    \n",
    "    features_with_most_correlations = [feature for feature, count in features_sorted_by_correlations if\n",
    "                                       count == max_feature_count]\n",
    "    highest_correlated_feature = None\n",
    "    correlation_value = 0\n",
    "    for feature in features_with_most_correlations:\n",
    "        for feature_1, feature_2, value in correlations:\n",
    "            if (feature == feature_1 or feature == feature_2) and value > correlation_value:\n",
    "                highest_correlated_feature = feature\n",
    "                correlation_value = value\n",
    "\n",
    "    features_to_remove.add(highest_correlated_feature)\n",
    "\n",
    "    correlations = {correlation for correlation in correlations if\n",
    "                    highest_correlated_feature != correlation.feature_1 and highest_correlated_feature != correlation.feature_2}\n",
    "    \n",
    "print(features_to_remove) "
   ]
  },
  {
   "cell_type": "code",
   "execution_count": 11,
   "metadata": {},
   "outputs": [],
   "source": [
    "train_X_reduced = train_X.drop(features_to_remove, axis=1)\n",
    "test_X_reduced = test_X.drop(features_to_remove, axis=1)"
   ]
  },
  {
   "cell_type": "markdown",
   "metadata": {},
   "source": [
    "- Train OLS on the reduced feature space. Report the MSE for the training and test set."
   ]
  },
  {
   "cell_type": "code",
   "execution_count": 12,
   "metadata": {},
   "outputs": [
    {
     "name": "stdout",
     "output_type": "stream",
     "text": [
      "OLS MSE training: 2892.851870842755\n",
      "OLS MSE test: 2904.101944545588\n"
     ]
    }
   ],
   "source": [
    "regression: LinearRegression = LinearRegression().fit(train_X_reduced, train_y)\n",
    "\n",
    "print('OLS MSE training:', mean_squared_error(train_y, regression.predict(train_X_reduced)))\n",
    "print('OLS MSE test:', mean_squared_error(test_y, regression.predict(test_X_reduced)))"
   ]
  },
  {
   "cell_type": "markdown",
   "metadata": {},
   "source": [
    "## Step 4\n",
    "- Implement PCA*. Transform your feature space to 2D.\n",
    "- Train OLS on the reduced feature space. Report the MSE for the training and test set."
   ]
  },
  {
   "cell_type": "markdown",
   "metadata": {},
   "source": [
    "Target: $T = XW$, find $W$\n",
    "\n",
    "Columns of $W$ are the eigenvectors of $X^TX$"
   ]
  },
  {
   "cell_type": "code",
   "execution_count": 13,
   "metadata": {},
   "outputs": [],
   "source": [
    "train_X_np = train_X.to_numpy()\n",
    "eigenvalues, eigenvectors = np.linalg.eig(train_X_np.T @ train_X_np)\n",
    "\n",
    "# Calculate moste important eigenvectors based on eigenvalues\n",
    "importance = sorted(enumerate(eigenvalues / sum(eigenvalues)), key=lambda x: x[1], reverse=True)"
   ]
  },
  {
   "cell_type": "markdown",
   "metadata": {},
   "source": [
    "If $W$ is column-truncated $T_p =XW_p$,\n",
    "\n",
    "$T$ is a reduced feature space (p-dimensional)"
   ]
  },
  {
   "cell_type": "code",
   "execution_count": 14,
   "metadata": {},
   "outputs": [],
   "source": [
    "dimensions = 2\n",
    "important_vec_indices = [index for index, _ in importance[:dimensions]]\n",
    "\n",
    "w = eigenvectors[important_vec_indices].T\n",
    "\n",
    "# Reduce feature space\n",
    "train_X_pca = train_X_np @ w\n",
    "test_X_pca = test_X.to_numpy() @ w"
   ]
  },
  {
   "cell_type": "markdown",
   "metadata": {},
   "source": [
    "### Regression"
   ]
  },
  {
   "cell_type": "code",
   "execution_count": 15,
   "metadata": {},
   "outputs": [
    {
     "name": "stdout",
     "output_type": "stream",
     "text": [
      "OLS MSE training: 5814.879309541581\n",
      "OLS MSE test: 6377.741246716916\n"
     ]
    }
   ],
   "source": [
    "regression: LinearRegression = LinearRegression().fit(train_X_pca, train_y)\n",
    "\n",
    "print('OLS MSE training:', mean_squared_error(train_y, regression.predict(train_X_pca)))\n",
    "print('OLS MSE test:', mean_squared_error(test_y, regression.predict(test_X_pca)))"
   ]
  },
  {
   "cell_type": "markdown",
   "metadata": {},
   "source": [
    "### Plot 2D reduced feature space"
   ]
  },
  {
   "cell_type": "code",
   "execution_count": 24,
   "metadata": {},
   "outputs": [
    {
     "data": {
      "image/png": "[encoded data removed]",
      "text/plain": [
       "<Figure size 1296x432 with 4 Axes>"
      ]
     },
     "metadata": {
      "needs_background": "light"
     },
     "output_type": "display_data"
    }
   ],
   "source": [
    "if dimensions == 2:\n",
    "    min_x = min(train_X_pca[:,0].min(), test_X_pca[:,0].min())\n",
    "    max_x = max(train_X_pca[:,0].max(), test_X_pca[:,0].max())\n",
    "    diff_x = max_x - min_x\n",
    "\n",
    "    min_y = min(train_X_pca[:,1].min(), test_X_pca[:,1].min())\n",
    "    max_y = max(train_X_pca[:,1].max(), test_X_pca[:,1].max())\n",
    "    diff_y = max_y - min_y\n",
    "    \n",
    "    plt.figure(figsize=(18, 6))\n",
    "    \n",
    "    plt.subplot(1,2,1)\n",
    "    plt.scatter(*zip(*train_X_pca), c=train_y, cmap='seismic')\n",
    "    plt.title('Train')\n",
    "    plt.colorbar()\n",
    "    \n",
    "    axes = plt.gca()\n",
    "    axes.set_xlim([min_x - 0.1 * diff_x, max_x + 0.1 * diff_x])\n",
    "    axes.set_ylim([min_y - 0.1 * diff_y, max_y + 0.1 * diff_y])\n",
    "    \n",
    "    plt.subplot(1,2,2)\n",
    "    plt.scatter(*zip(*test_X_pca), c=test_y, cmap='terrain')\n",
    "    plt.title('Test')\n",
    "    plt.colorbar()\n",
    "    \n",
    "    axes = plt.gca()\n",
    "    axes.set_xlim([min_x - 0.1 * diff_x, max_x + 0.1 * diff_x])\n",
    "    axes.set_ylim([min_y - 0.1 * diff_y, max_y + 0.1 * diff_y])\n",
    "    \n",
    "    plt.show()"
   ]
  },
  {
   "cell_type": "markdown",
   "metadata": {},
   "source": [
    "### Scree plot"
   ]
  },
  {
   "cell_type": "code",
   "execution_count": 29,
   "metadata": {},
   "outputs": [
    {
     "data": {
      "image/png": "[encoded data removed]",
      "text/plain": [
       "<Figure size 432x288 with 1 Axes>"
      ]
     },
     "metadata": {
      "needs_background": "light"
     },
     "output_type": "display_data"
    }
   ],
   "source": [
    "y_pos = np.arange(len(eigenvectors))\n",
    "plt.bar(y_pos, [y for _, y in importance], color=\"black\")\n",
    "plt.xticks(y_pos, [x for x, _ in importance])\n",
    "plt.show()"
   ]
  }
 ],
 "metadata": {
  "kernelspec": {
   "display_name": "Python 3",
   "language": "python",
   "name": "python3"
  },
  "language_info": {
   "codemirror_mode": {
    "name": "ipython",
    "version": 3
   },
   "file_extension": ".py",
   "mimetype": "text/x-python",
   "name": "python",
   "nbconvert_exporter": "python",
   "pygments_lexer": "ipython3",
   "version": "3.8.3"
  }
 },
 "nbformat": 4,
 "nbformat_minor": 4
}
