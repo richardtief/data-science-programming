{
 "cells": [
  {
   "cell_type": "code",
   "execution_count": 1,
   "metadata": {},
   "outputs": [],
   "source": [
    "from tensorflow.keras.datasets import boston_housing\n",
    "from tensorflow.keras import models, layers\n",
    "from tensorflow.keras import utils\n",
    "import itertools\n",
    "import numpy as np\n",
    "import matplotlib.pyplot as plt"
   ]
  },
  {
   "cell_type": "markdown",
   "metadata": {},
   "source": [
    "## Step 0\n",
    "- Get the Boston housing price dataset from keras.\n",
    "- Use the predefined split into training and test data."
   ]
  },
  {
   "cell_type": "code",
   "execution_count": 2,
   "metadata": {},
   "outputs": [],
   "source": [
    "(train_X, train_y), (test_X, test_y) = boston_housing.load_data()"
   ]
  },
  {
   "cell_type": "markdown",
   "metadata": {},
   "source": [
    "## Step 1\n",
    "- Use a funnel MLP* with width (𝑤1) 512 and depth (𝑙max ) 2 to predict the house prices.\n",
    "- Other parameters: RELU activations, MSE, the Adam optimizer, 100 epochs and a batch size of 32."
   ]
  },
  {
   "cell_type": "code",
   "execution_count": 3,
   "metadata": {},
   "outputs": [],
   "source": [
    "def create_model(w_1: int, l_max: int) -> models.Sequential:\n",
    "    model = models.Sequential()\n",
    "\n",
    "    # Input layer\n",
    "    model.add(layers.Input(shape=(13,), name='Input'))\n",
    "\n",
    "    # Middle layers\n",
    "    for layer in range(l_max):\n",
    "        units = w_1 / (2 ** layer)\n",
    "        model.add(layers.Dense(units, activation='relu'))\n",
    "\n",
    "    # Output layers\n",
    "    model.add(layers.Dense(1, name='Output'))\n",
    "\n",
    "    return model"
   ]
  },
  {
   "cell_type": "code",
   "execution_count": 4,
   "metadata": {},
   "outputs": [],
   "source": [
    "model = create_model(512, 2)\n",
    "model.compile(optimizer='adam', loss='mse')\n",
    "history = model.fit(train_X, train_y, batch_size=32, epochs=100, verbose=0)"
   ]
  },
  {
   "cell_type": "markdown",
   "metadata": {},
   "source": [
    "- Evaluate the NN on the test data."
   ]
  },
  {
   "cell_type": "code",
   "execution_count": 5,
   "metadata": {},
   "outputs": [
    {
     "name": "stdout",
     "output_type": "stream",
     "text": [
      "30.036873162961474\n"
     ]
    }
   ],
   "source": [
    "error = model.evaluate(test_X, test_y, verbose=0)\n",
    "print(error)"
   ]
  },
  {
   "cell_type": "markdown",
   "metadata": {},
   "source": [
    "## Step 2\n",
    "- Min-max normalize the features. Then, train the same MLP from step 1. Compare the errors."
   ]
  },
  {
   "cell_type": "code",
   "execution_count": 6,
   "metadata": {},
   "outputs": [],
   "source": [
    "X = np.concatenate((train_X, test_X))\n",
    "X_min = X.min(0)\n",
    "X_max = X.max(0)\n",
    "train_X_normalised = (train_X - X_min) / (X_max - X_min)\n",
    "test_X_normalised = (test_X - X_min) / (X_max - X_min)"
   ]
  },
  {
   "cell_type": "code",
   "execution_count": 7,
   "metadata": {},
   "outputs": [],
   "source": [
    "model = create_model(512, 2)\n",
    "model.compile(optimizer='adam', loss='mse')\n",
    "history = model.fit(train_X_normalised, train_y, batch_size=32, epochs=100, verbose=0)"
   ]
  },
  {
   "cell_type": "markdown",
   "metadata": {},
   "source": [
    "### Error comparison"
   ]
  },
  {
   "cell_type": "code",
   "execution_count": 8,
   "metadata": {},
   "outputs": [
    {
     "name": "stdout",
     "output_type": "stream",
     "text": [
      "Not normalized: 30.036873162961474\n",
      "Normalized: 19.911150764016543\n"
     ]
    }
   ],
   "source": [
    "error_normalised = model.evaluate(test_X_normalised, test_y, verbose=0)\n",
    "\n",
    "print('Not normalized:', error)\n",
    "print('Normalized:', error_normalised)"
   ]
  },
  {
   "cell_type": "markdown",
   "metadata": {},
   "source": [
    "## Step 3\n",
    "- Use a grid search* to find the best combination of $w_1$ and $l_{max}$ for the normalized data."
   ]
  },
  {
   "cell_type": "code",
   "execution_count": 9,
   "metadata": {},
   "outputs": [],
   "source": [
    "batch_size = 32\n",
    "epochs = 100\n",
    "\n",
    "losses_dict = dict()\n",
    "\n",
    "for w_1, l_max in itertools.product((256, 512, 1024), (1, 2, 3)):\n",
    "    model = create_model(w_1, l_max)\n",
    "    model.compile(optimizer='adam', loss='mse')\n",
    "    model.fit(train_X_normalised, train_y, batch_size=batch_size, epochs=epochs, verbose=0)\n",
    "    \n",
    "    loss = model.evaluate(test_X_normalised, test_y, verbose=0)\n",
    "    losses_dict[w_1, l_max] = loss"
   ]
  },
  {
   "cell_type": "markdown",
   "metadata": {},
   "source": [
    "### Plot results"
   ]
  },
  {
   "cell_type": "code",
   "execution_count": 10,
   "metadata": {},
   "outputs": [
    {
     "data": {
      "image/png": "[encoded data removed]",
      "text/plain": [
       "<Figure size 432x288 with 1 Axes>"
      ]
     },
     "metadata": {
      "needs_background": "light"
     },
     "output_type": "display_data"
    }
   ],
   "source": [
    "y_pos = np.arange(len(losses_dict))\n",
    "title, losses = zip(*losses_dict.items())\n",
    "plt.bar(y_pos, losses)\n",
    "plt.xticks(y_pos, title)\n",
    "plt.title(f'MSE for {epochs} epochs with batch size {batch_size}')\n",
    "plt.show()"
   ]
  },
  {
   "cell_type": "markdown",
   "metadata": {},
   "source": [
    "### Best combination"
   ]
  },
  {
   "cell_type": "code",
   "execution_count": 11,
   "metadata": {},
   "outputs": [
    {
     "name": "stdout",
     "output_type": "stream",
     "text": [
      "(1024, 3)\n"
     ]
    }
   ],
   "source": [
    "print(min(losses_dict, key=losses_dict.get))"
   ]
  }
 ],
 "metadata": {
  "kernelspec": {
   "display_name": "Python 3",
   "language": "python",
   "name": "python3"
  },
  "language_info": {
   "codemirror_mode": {
    "name": "ipython",
    "version": 3
   },
   "file_extension": ".py",
   "mimetype": "text/x-python",
   "name": "python",
   "nbconvert_exporter": "python",
   "pygments_lexer": "ipython3",
   "version": "3.8.3"
  }
 },
 "nbformat": 4,
 "nbformat_minor": 4
}
