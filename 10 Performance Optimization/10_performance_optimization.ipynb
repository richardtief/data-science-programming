{
 "cells": [
  {
   "cell_type": "code",
   "execution_count": 3,
   "metadata": {},
   "outputs": [],
   "source": [
    "import numpy as np\n",
    "from math import sqrt\n",
    "\n",
    "import time\n",
    "from timeit import default_timer as timer\n",
    "from multiprocessing import Pool, cpu_count"
   ]
  },
  {
   "cell_type": "code",
   "execution_count": 4,
   "metadata": {},
   "outputs": [],
   "source": [
    "data1 = np.array(np.random.rand(2000, 2000))\n",
    "data2 = np.array(np.random.rand(2000, 2000))"
   ]
  },
  {
   "attachments": {
    "image.png": {
     "image/png": "[encoded data removed]"
    }
   },
   "cell_type": "markdown",
   "metadata": {},
   "source": [
    "Two dimensional euclidian distance  ![image.png](attachment:image.png)"
   ]
  },
  {
   "cell_type": "code",
   "execution_count": 5,
   "metadata": {},
   "outputs": [],
   "source": [
    "def euclid_distance_math(x, y):\n",
    "    return sqrt(sum((i - j) ** 2 for d1, d2 in zip(x, y) for i, j in zip(d1, d2)))"
   ]
  },
  {
   "cell_type": "code",
   "execution_count": 6,
   "metadata": {},
   "outputs": [
    {
     "name": "stdout",
     "output_type": "stream",
     "text": [
      "2.34 s ± 68 ms per loop (mean ± std. dev. of 7 runs, 1 loop each)\n"
     ]
    }
   ],
   "source": [
    "# %%timeit\n",
    "euclid_distance_math(data1, data2)\n",
    "\n",
    "# 816.7664409901531\n",
    "# 2.5 s ± 35.1 ms per loop (mean ± std. dev. of 7 runs, 1 loop each)"
   ]
  },
  {
   "cell_type": "code",
   "execution_count": 7,
   "metadata": {},
   "outputs": [],
   "source": [
    "# Splitting numpy arrays into two subsets of same size\n",
    "data1_1, data1_2 = data1[:1000, ...], data1[1000:, ...]\n",
    "data2_1, data2_2 = data1[:1000, ...], data1[1000:, ...]"
   ]
  },
  {
   "cell_type": "code",
   "execution_count": 87,
   "metadata": {},
   "outputs": [
    {
     "name": "stdout",
     "output_type": "stream",
     "text": [
      "816.5149519336449\n"
     ]
    }
   ],
   "source": [
    "def euclid_distance_vectorized(x, y):\n",
    "    return sqrt(sum((x.flatten() - y.flatten()) ** 2))"
   ]
  },
  {
   "cell_type": "code",
   "execution_count": 67,
   "metadata": {},
   "outputs": [
    {
     "name": "stdout",
     "output_type": "stream",
     "text": [
      "[0.64931597 0.75000671 0.26071188 ... 0.88007998 0.32174859 0.76562313] \n",
      " [0.28914066 0.55932113 0.43335278 ... 0.63493813 0.81153357 0.30956005]\n",
      "0.6493159651714185 0.28914065659069754\n"
     ]
    },
    {
     "data": {
      "text/plain": [
       "816.5149519336449"
      ]
     },
     "execution_count": 67,
     "metadata": {},
     "output_type": "execute_result"
    }
   ],
   "source": []
  },
  {
   "cell_type": "code",
   "execution_count": 49,
   "metadata": {},
   "outputs": [
    {
     "name": "stdout",
     "output_type": "stream",
     "text": [
      "Compiling euclid.pyx because it changed.\n",
      "[1/1] Cythonizing euclid.pyx\n",
      "running build_ext\n",
      "building 'euclid' extension\n",
      "clang -Wno-unused-result -Wsign-compare -Wunreachable-code -fno-common -dynamic -DNDEBUG -g -fwrapv -O3 -Wall -I/Library/Developer/CommandLineTools/SDKs/MacOSX11.0.sdk/usr/include -I/Library/Developer/CommandLineTools/SDKs/MacOSX11.0.sdk/System/Library/Frameworks/Tk.framework/Versions/8.5/Headers -I/usr/local/include -I/usr/local/opt/openssl@1.1/include -I/usr/local/opt/sqlite/include -I/usr/local/Cellar/python@3.9/3.9.0_2/Frameworks/Python.framework/Versions/3.9/include/python3.9 -c euclid.c -o build/temp.macosx-11.0-x86_64-3.9/euclid.o\n",
      "clang -bundle -undefined dynamic_lookup build/temp.macosx-11.0-x86_64-3.9/euclid.o -L/usr/local/lib -L/usr/local/opt/openssl@1.1/lib -L/usr/local/opt/sqlite/lib -o /Users/i520251/Nextcloud/Programming for Data Science/10 Performance Optimization/euclid.cpython-39-darwin.so\n"
     ]
    }
   ],
   "source": [
    "!python3 setup.py build_ext --inplace "
   ]
  },
  {
   "cell_type": "code",
   "execution_count": 92,
   "metadata": {},
   "outputs": [
    {
     "name": "stdout",
     "output_type": "stream",
     "text": [
      "starting computation with numpy\n",
      "816.4517594400052\n",
      "elapsed time: 0.012906678000000005s\n",
      "-------------------------------------------------------------\n",
      "starting computation item per item\n",
      "816.4517594399805\n",
      "elapsed time: 2.853860611s\n",
      "-------------------------------------------------------------\n",
      "starting computation with parallelization on 2 cores\n",
      "816.4517594399805\n",
      "elapsed time: 3.295689055s\n",
      "-------------------------------------------------------------\n",
      "starting computation in C\n",
      "816.4517594399805\n",
      "elapsed time: 0.8653160710000005s\n",
      "-------------------------------------------------------------\n",
      "starting computation vectorized\n",
      "816.4517594399805\n",
      "elapsed time: 0.6581074729999994s\n"
     ]
    }
   ],
   "source": [
    "!python3 performance_optimization_richard_tief.py"
   ]
  }
 ],
 "metadata": {
  "kernelspec": {
   "display_name": "Python 3",
   "language": "python",
   "name": "python3"
  },
  "language_info": {
   "codemirror_mode": {
    "name": "ipython",
    "version": 3
   },
   "file_extension": ".py",
   "mimetype": "text/x-python",
   "name": "python",
   "nbconvert_exporter": "python",
   "pygments_lexer": "ipython3",
   "version": "3.8.5"
  }
 },
 "nbformat": 4,
 "nbformat_minor": 4
}
