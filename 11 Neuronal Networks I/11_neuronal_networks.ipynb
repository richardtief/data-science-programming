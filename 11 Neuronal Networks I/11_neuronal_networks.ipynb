{
 "cells": [
  {
   "cell_type": "code",
   "execution_count": 13,
   "metadata": {},
   "outputs": [],
   "source": [
    "import numpy as np\n",
    "import matplotlib.pyplot as plt\n",
    "\n",
    "from itertools import product\n",
    "from tensorflow.keras.datasets import boston_housing\n",
    "from tensorflow.keras import models, layers\n",
    "from tensorflow.keras import utils"
   ]
  },
  {
   "cell_type": "code",
   "execution_count": 14,
   "metadata": {},
   "outputs": [],
   "source": [
    "# using predefined train/test split \n",
    "(train_X, train_y), (test_X, test_y) = boston_housing.load_data()"
   ]
  },
  {
   "cell_type": "code",
   "execution_count": 15,
   "metadata": {},
   "outputs": [],
   "source": [
    "def build_model(width, depth):\n",
    "    model = models.Sequential()\n",
    "    model.add(layers.Input(shape=(13,), name='Input'))\n",
    "    for layer in range(depth):\n",
    "        units = width / (2**layer)\n",
    "        model.add(layers.Dense(units, activation='relu'))\n",
    "    model.add(layers.Dense(1, name='Output'))\n",
    "\n",
    "    return model\n",
    "\n",
    "# breite und tiefe implementiert"
   ]
  },
  {
   "cell_type": "code",
   "execution_count": 16,
   "metadata": {},
   "outputs": [],
   "source": [
    "model = build_model(512, 2)\n",
    "model.compile(optimizer='adam', loss='mse')"
   ]
  },
  {
   "cell_type": "code",
   "execution_count": 17,
   "metadata": {},
   "outputs": [
    {
     "name": "stdout",
     "output_type": "stream",
     "text": [
      "Model: \"sequential_36\"\n",
      "_________________________________________________________________\n",
      "Layer (type)                 Output Shape              Param #   \n",
      "=================================================================\n",
      "dense_107 (Dense)            (None, 512)               7168      \n",
      "_________________________________________________________________\n",
      "dense_108 (Dense)            (None, 256)               131328    \n",
      "_________________________________________________________________\n",
      "Output (Dense)               (None, 1)                 257       \n",
      "=================================================================\n",
      "Total params: 138,753\n",
      "Trainable params: 138,753\n",
      "Non-trainable params: 0\n",
      "_________________________________________________________________\n"
     ]
    }
   ],
   "source": [
    "model.summary() "
   ]
  },
  {
   "cell_type": "code",
   "execution_count": 18,
   "metadata": {},
   "outputs": [
    {
     "name": "stdout",
     "output_type": "stream",
     "text": [
      "4/4 [==============================] - 0s 1ms/step - loss: 26.5125\n"
     ]
    }
   ],
   "source": [
    "BATCH = 32\n",
    "EPOCHS = 100\n",
    "\n",
    "\n",
    "hist1 = model.fit(train_X, train_y, batch_size=BATCH, epochs=EPOCHS, shuffle=True, verbose=0) # shuffle=True\n",
    "err = model.evaluate(test_X, test_y)"
   ]
  },
  {
   "cell_type": "code",
   "execution_count": 19,
   "metadata": {},
   "outputs": [],
   "source": [
    "X_min = np.concatenate((train_X, test_X)).min(0)\n",
    "X_max = np.concatenate((train_X, test_X)).max(0)\n",
    "train_X_norm = (train_X - X_min) / (X_max - X_min)\n",
    "test_X_norm = (test_X - X_min) / (X_max - X_min)"
   ]
  },
  {
   "cell_type": "code",
   "execution_count": 20,
   "metadata": {},
   "outputs": [
    {
     "name": "stdout",
     "output_type": "stream",
     "text": [
      "4/4 [==============================] - 0s 941us/step - loss: 20.9170\n"
     ]
    }
   ],
   "source": [
    "hist2 = model.fit(train_X_norm, train_y, batch_size=BATCH, epochs=EPOCHS, verbose=0)\n",
    "err_norm = model.evaluate(test_X_norm, test_y)"
   ]
  },
  {
   "cell_type": "code",
   "execution_count": 21,
   "metadata": {},
   "outputs": [
    {
     "name": "stdout",
     "output_type": "stream",
     "text": [
      "Error:            26.51251792907715\n",
      "Normalized error: 20.916975021362305\n"
     ]
    }
   ],
   "source": [
    "print('Error:           ', err)\n",
    "print('Normalized error:', err_norm)\n",
    "\n",
    "# Error:            26.51251792907715\n",
    "# Normalized error: 20.916975021362305"
   ]
  },
  {
   "cell_type": "code",
   "execution_count": 22,
   "metadata": {},
   "outputs": [
    {
     "name": "stdout",
     "output_type": "stream",
     "text": [
      "4/4 [==============================] - 0s 940us/step - loss: 27.8296\n",
      "4/4 [==============================] - 0s 976us/step - loss: 24.6232\n",
      "4/4 [==============================] - 0s 893us/step - loss: 23.0448\n",
      "4/4 [==============================] - 0s 1ms/step - loss: 20.4022\n",
      "4/4 [==============================] - 0s 899us/step - loss: 23.4917\n",
      "4/4 [==============================] - 0s 896us/step - loss: 24.1293\n",
      "4/4 [==============================] - 0s 830us/step - loss: 23.2223\n",
      "4/4 [==============================] - 0s 878us/step - loss: 18.3992\n",
      "4/4 [==============================] - 0s 748us/step - loss: 19.5727\n",
      "4/4 [==============================] - 0s 1ms/step - loss: 16.5293\n",
      "4/4 [==============================] - 0s 752us/step - loss: 23.8600\n",
      "4/4 [==============================] - 0s 951us/step - loss: 21.0448\n",
      "4/4 [==============================] - 0s 984us/step - loss: 21.6048\n",
      "4/4 [==============================] - 0s 1ms/step - loss: 14.8044\n",
      "4/4 [==============================] - 0s 1ms/step - loss: 17.0576\n",
      "4/4 [==============================] - 0s 929us/step - loss: 25.3742\n",
      "4/4 [==============================] - 0s 1ms/step - loss: 19.5648\n",
      "4/4 [==============================] - 0s 1ms/step - loss: 14.8753\n",
      "4/4 [==============================] - 0s 2ms/step - loss: 14.3364\n",
      "4/4 [==============================] - 0s 1ms/step - loss: 13.8320\n"
     ]
    }
   ],
   "source": [
    "# Grid search to find the best combination\n",
    "\n",
    "losses = dict()\n",
    "\n",
    "for width, depth in product((128, 256, 512, 1024), (1, 2, 3, 4, 5)):\n",
    "    model = build_model(width, depth)\n",
    "    model.compile(optimizer='adam', loss='mse')\n",
    "    model.fit(train_X_norm, train_y, batch_size=BATCH, epochs=EPOCHS, verbose=0)\n",
    "    \n",
    "    loss = model.evaluate(test_X_norm, test_y)\n",
    "    losses[width, depth] = loss\n",
    "    \n",
    "    \n",
    "# 4/4 [==============================] - 0s 940us/step - loss: 27.8296\n",
    "# 4/4 [==============================] - 0s 976us/step - loss: 24.6232\n",
    "# 4/4 [==============================] - 0s 893us/step - loss: 23.0448\n",
    "# 4/4 [==============================] - 0s 1ms/step - loss: 20.4022\n",
    "# 4/4 [==============================] - 0s 899us/step - loss: 23.4917\n",
    "# 4/4 [==============================] - 0s 896us/step - loss: 24.1293\n",
    "# 4/4 [==============================] - 0s 830us/step - loss: 23.2223\n",
    "# 4/4 [==============================] - 0s 878us/step - loss: 18.3992\n",
    "# 4/4 [==============================] - 0s 748us/step - loss: 19.5727\n",
    "# 4/4 [==============================] - 0s 1ms/step - loss: 16.5293\n",
    "# 4/4 [==============================] - 0s 752us/step - loss: 23.8600\n",
    "# 4/4 [==============================] - 0s 951us/step - loss: 21.0448\n",
    "# 4/4 [==============================] - 0s 984us/step - loss: 21.6048\n",
    "# 4/4 [==============================] - 0s 1ms/step - loss: 14.8044\n",
    "# 4/4 [==============================] - 0s 1ms/step - loss: 17.0576\n",
    "# 4/4 [==============================] - 0s 929us/step - loss: 25.3742\n",
    "# 4/4 [==============================] - 0s 1ms/step - loss: 19.5648\n",
    "# 4/4 [==============================] - 0s 1ms/step - loss: 14.8753\n",
    "# 4/4 [==============================] - 0s 2ms/step - loss: 14.3364\n",
    "# 4/4 [==============================] - 0s 1ms/step - loss: 13.8320"
   ]
  },
  {
   "cell_type": "code",
   "execution_count": 23,
   "metadata": {},
   "outputs": [
    {
     "name": "stdout",
     "output_type": "stream",
     "text": [
      "(1024, 5)       13.831974983215332\n",
      "(1024, 4)       14.336359024047852\n",
      "(512, 4)       14.804420471191406\n",
      "(1024, 3)       14.875267028808594\n",
      "(256, 5)       16.5292911529541\n",
      "(512, 5)       17.057615280151367\n",
      "(256, 3)       18.39919090270996\n",
      "(1024, 2)       19.56477165222168\n",
      "(256, 4)       19.572736740112305\n",
      "(128, 4)       20.40224838256836\n",
      "(512, 2)       21.044843673706055\n",
      "(512, 3)       21.604833602905273\n",
      "(128, 3)       23.04477310180664\n",
      "(256, 2)       23.222307205200195\n",
      "(128, 5)       23.491689682006836\n",
      "(512, 1)       23.860002517700195\n",
      "(256, 1)       24.129302978515625\n",
      "(128, 2)       24.62320899963379\n",
      "(1024, 1)       25.37423324584961\n",
      "(128, 1)       27.829570770263672\n"
     ]
    }
   ],
   "source": [
    "# sort by best combination\n",
    "sort_dict= dict(sorted((value, key) for (key,value) in losses.items())) \n",
    "for k,v in sort_dict.items():\n",
    "    print(v, \"     \", k)\n",
    "    \n",
    "# (1024, 5)       13.831974983215332\n",
    "# (1024, 4)       14.336359024047852\n",
    "# (512, 4)       14.804420471191406\n",
    "# (1024, 3)       14.875267028808594\n",
    "# (256, 5)       16.5292911529541\n",
    "# (512, 5)       17.057615280151367\n",
    "# (256, 3)       18.39919090270996\n",
    "# (1024, 2)       19.56477165222168\n",
    "# (256, 4)       19.572736740112305\n",
    "# (128, 4)       20.40224838256836\n",
    "# (512, 2)       21.044843673706055\n",
    "# (512, 3)       21.604833602905273\n",
    "# (128, 3)       23.04477310180664\n",
    "# (256, 2)       23.222307205200195\n",
    "# (128, 5)       23.491689682006836\n",
    "# (512, 1)       23.860002517700195\n",
    "# (256, 1)       24.129302978515625\n",
    "# (128, 2)       24.62320899963379\n",
    "# (1024, 1)       25.37423324584961\n",
    "# (128, 1)       27.829570770263672"
   ]
  }
 ],
 "metadata": {
  "kernelspec": {
   "display_name": "Python 3",
   "language": "python",
   "name": "python3"
  },
  "language_info": {
   "codemirror_mode": {
    "name": "ipython",
    "version": 3
   },
   "file_extension": ".py",
   "mimetype": "text/x-python",
   "name": "python",
   "nbconvert_exporter": "python",
   "pygments_lexer": "ipython3",
   "version": "3.8.5"
  }
 },
 "nbformat": 4,
 "nbformat_minor": 4
}
